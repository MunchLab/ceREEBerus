{
 "cells": [
  {
   "cell_type": "code",
   "execution_count": 1,
   "metadata": {},
   "outputs": [
    {
     "name": "stdout",
     "output_type": "stream",
     "text": [
      "LICENSE         README.md       \u001b[34mcereeberus\u001b[m\u001b[m/     \u001b[34mdocs\u001b[m\u001b[m/           pyproject.toml\n",
      "Makefile        Untitled.ipynb  \u001b[34mdoc_source\u001b[m\u001b[m/     \u001b[34mnotebooks\u001b[m\u001b[m/      \u001b[34mvenv\u001b[m\u001b[m/\n"
     ]
    }
   ],
   "source": [
    "ls"
   ]
  },
  {
   "cell_type": "code",
   "execution_count": 2,
   "metadata": {},
   "outputs": [
    {
     "name": "stdout",
     "output_type": "stream",
     "text": [
      "Processing /Users/daniellebarnes/development/ceREEBerus\n",
      "  Installing build dependencies ... \u001b[?25ldone\n",
      "\u001b[?25h  Getting requirements to build wheel ... \u001b[?25ldone\n",
      "\u001b[?25h    Preparing wheel metadata ... \u001b[?25ldone\n",
      "\u001b[?25hRequirement already satisfied: networkx in /Users/daniellebarnes/opt/anaconda3/lib/python3.8/site-packages (from cereeberus==0.0.5) (2.8.8)\n",
      "Requirement already satisfied: numpy in /Users/daniellebarnes/opt/anaconda3/lib/python3.8/site-packages (from cereeberus==0.0.5) (1.20.1)\n",
      "Requirement already satisfied: matplotlib in /Users/daniellebarnes/opt/anaconda3/lib/python3.8/site-packages (from cereeberus==0.0.5) (3.3.4)\n",
      "Requirement already satisfied: kiwisolver>=1.0.1 in /Users/daniellebarnes/opt/anaconda3/lib/python3.8/site-packages (from matplotlib->cereeberus==0.0.5) (1.3.1)\n",
      "Requirement already satisfied: pillow>=6.2.0 in /Users/daniellebarnes/opt/anaconda3/lib/python3.8/site-packages (from matplotlib->cereeberus==0.0.5) (8.2.0)\n",
      "Requirement already satisfied: cycler>=0.10 in /Users/daniellebarnes/opt/anaconda3/lib/python3.8/site-packages (from matplotlib->cereeberus==0.0.5) (0.10.0)\n",
      "Requirement already satisfied: pyparsing!=2.0.4,!=2.1.2,!=2.1.6,>=2.0.3 in /Users/daniellebarnes/opt/anaconda3/lib/python3.8/site-packages (from matplotlib->cereeberus==0.0.5) (2.4.7)\n",
      "Requirement already satisfied: python-dateutil>=2.1 in /Users/daniellebarnes/opt/anaconda3/lib/python3.8/site-packages (from matplotlib->cereeberus==0.0.5) (2.8.1)\n",
      "Requirement already satisfied: six in /Users/daniellebarnes/opt/anaconda3/lib/python3.8/site-packages (from cycler>=0.10->matplotlib->cereeberus==0.0.5) (1.15.0)\n",
      "Building wheels for collected packages: cereeberus\n",
      "  Building wheel for cereeberus (PEP 517) ... \u001b[?25ldone\n",
      "\u001b[?25h  Created wheel for cereeberus: filename=cereeberus-0.0.5-py3-none-any.whl size=14920 sha256=d81bc036774343e17384c9c379baac66f465cb20bd522011ba5aff3a6e6007a3\n",
      "  Stored in directory: /private/var/folders/3v/dt2bhl_176dcpzjx5gld8qdc0000gn/T/pip-ephem-wheel-cache-la02jvnr/wheels/ba/0b/08/8340df22f780a7a3281c7f7e134235d0cced784225c7bf2d6f\n",
      "Successfully built cereeberus\n",
      "Installing collected packages: cereeberus\n",
      "  Attempting uninstall: cereeberus\n",
      "    Found existing installation: cereeberus 0.0.5\n",
      "    Uninstalling cereeberus-0.0.5:\n",
      "      Successfully uninstalled cereeberus-0.0.5\n",
      "Successfully installed cereeberus-0.0.5\n",
      "Note: you may need to restart the kernel to use updated packages.\n"
     ]
    }
   ],
   "source": [
    "pip install ."
   ]
  },
  {
   "cell_type": "code",
   "execution_count": 3,
   "metadata": {},
   "outputs": [],
   "source": [
    "# Basic imports \n",
    "import networkx as nx\n",
    "import matplotlib"
   ]
  },
  {
   "cell_type": "markdown",
   "metadata": {},
   "source": [
    "# Examples of Up Down Degree Computation\n",
    "\n",
    "In the dancing man graph below, we compute the up and down degree and test the function is correct"
   ]
  },
  {
   "cell_type": "code",
   "execution_count": 4,
   "metadata": {},
   "outputs": [],
   "source": [
    "from cereeberus.reeb import Reeb\n",
    "from cereeberus.data import graphs"
   ]
  },
  {
   "cell_type": "code",
   "execution_count": 13,
   "metadata": {},
   "outputs": [],
   "source": [
    "Gf = graphs.favorite_0()\n",
    "position = nx.get_node_attributes(Gf,'pos')"
   ]
  },
  {
   "cell_type": "code",
   "execution_count": 14,
   "metadata": {},
   "outputs": [],
   "source": [
    "rf = Reeb(Gf)"
   ]
  },
  {
   "cell_type": "code",
   "execution_count": 15,
   "metadata": {},
   "outputs": [
    {
     "data": {
      "image/png": "[encoded data removed]",
      "text/plain": [
       "<Figure size 432x288 with 1 Axes>"
      ]
     },
     "metadata": {},
     "output_type": "display_data"
    }
   ],
   "source": [
    "rf.plot_reeb(position)"
   ]
  },
  {
   "cell_type": "code",
   "execution_count": 18,
   "metadata": {},
   "outputs": [
    {
     "data": {
      "text/plain": [
       "{0: 1, 1: 2, 2: 2, 3: 1, 4: 1, 5: 0, 6: 1, 7: 0}"
      ]
     },
     "execution_count": 18,
     "metadata": {},
     "output_type": "execute_result"
    }
   ],
   "source": [
    "up = nx.get_node_attributes(Gf,'up_deg')\n",
    "down = nx.get_node_attributes(Gf,'down_deg')\n",
    "up"
   ]
  },
  {
   "cell_type": "code",
   "execution_count": 19,
   "metadata": {},
   "outputs": [
    {
     "data": {
      "text/plain": [
       "{0: 1, 1: 2, 2: 2, 3: 1, 4: 1, 5: 0, 6: 1, 7: 0}"
      ]
     },
     "execution_count": 19,
     "metadata": {},
     "output_type": "execute_result"
    }
   ],
   "source": [
    "down"
   ]
  },
  {
   "cell_type": "code",
   "execution_count": 35,
   "metadata": {},
   "outputs": [
    {
     "data": {
      "text/plain": [
       "EdgeView([(0, 1), (1, 2), (1, 3), (2, 5), (2, 6), (3, 4), (3, 6), (6, 7)])"
      ]
     },
     "execution_count": 35,
     "metadata": {},
     "output_type": "execute_result"
    }
   ],
   "source": [
    "import numpy as np\n",
    "Gf.edges()"
   ]
  },
  {
   "cell_type": "code",
   "execution_count": 79,
   "metadata": {},
   "outputs": [
    {
     "data": {
      "text/plain": [
       "{0: 7, 1: 6, 2: 5, 3: 5, 4: 6, 5: 4, 6: 4, 7: 1}"
      ]
     },
     "execution_count": 79,
     "metadata": {},
     "output_type": "execute_result"
    }
   ],
   "source": [
    "fx = nx.get_node_attributes(Gf,'fx')\n",
    "fx"
   ]
  },
  {
   "cell_type": "code",
   "execution_count": 106,
   "metadata": {},
   "outputs": [],
   "source": [
    "n = len(down)\n",
    "down_adj = np.zeros((n,n))\n",
    "down_adj\n",
    "\n",
    "for i in range(0,n):\n",
    "    for j in range(i,n):\n",
    "        if fx[i] > fx[j]:\n",
    "            e = list(Gf.edges(i))\n",
    "            if (i,j) in e:\n",
    "                down_adj[j,i]+=1\n",
    "        if fx[i] < fx[j]:\n",
    "            e = list(Gf.edges(i))\n",
    "            if (i,j) in e:\n",
    "                down_adj[i,j]+=1\n",
    "\n",
    "d = sum(down_adj)\n",
    "\n",
    "down = {}\n",
    "for i in range(0,n):\n",
    "    down[i] = int(d[i])"
   ]
  },
  {
   "cell_type": "code",
   "execution_count": 109,
   "metadata": {},
   "outputs": [],
   "source": [
    "n = len(up)\n",
    "up_adj = np.zeros((n,n))\n",
    "up_adj\n",
    "\n",
    "for i in range(0,n):\n",
    "    for j in range(i,n):\n",
    "        if fx[i] < fx[j]:\n",
    "            e = list(Gf.edges(i))\n",
    "            if (i,j) in e:\n",
    "                up_adj[j,i]+=1\n",
    "        if fx[i] > fx[j]:\n",
    "            e = list(Gf.edges(i))\n",
    "            if (i,j) in e:\n",
    "                up_adj[i,j]+=1\n",
    "\n",
    "d = sum(up_adj)\n",
    "\n",
    "up = {}\n",
    "for i in range(0,n):\n",
    "    up[i] = int(d[i])"
   ]
  },
  {
   "cell_type": "code",
   "execution_count": 110,
   "metadata": {},
   "outputs": [
    {
     "data": {
      "text/plain": [
       "{0: 0, 1: 1, 2: 1, 3: 2, 4: 0, 5: 1, 6: 2, 7: 1}"
      ]
     },
     "execution_count": 110,
     "metadata": {},
     "output_type": "execute_result"
    }
   ],
   "source": [
    "\n",
    "up"
   ]
  },
  {
   "cell_type": "code",
   "execution_count": 113,
   "metadata": {},
   "outputs": [
    {
     "data": {
      "text/plain": [
       "8"
      ]
     },
     "execution_count": 113,
     "metadata": {},
     "output_type": "execute_result"
    }
   ],
   "source": [
    "len(Gf.nodes)"
   ]
  },
  {
   "cell_type": "code",
   "execution_count": 41,
   "metadata": {},
   "outputs": [
    {
     "data": {
      "image/png": "[encoded data removed]",
      "text/plain": [
       "<Figure size 432x288 with 1 Axes>"
      ]
     },
     "metadata": {},
     "output_type": "display_data"
    }
   ],
   "source": [
    "nx.draw(Gf)"
   ]
  }
 ],
 "metadata": {
  "kernelspec": {
   "display_name": "Python 3",
   "language": "python",
   "name": "python3"
  },
  "language_info": {
   "codemirror_mode": {
    "name": "ipython",
    "version": 3
   },
   "file_extension": ".py",
   "mimetype": "text/x-python",
   "name": "python",
   "nbconvert_exporter": "python",
   "pygments_lexer": "ipython3",
   "version": "3.8.8"
  },
  "vscode": {
   "interpreter": {
    "hash": "3e3338d56a43a0108f5ff8ffc1915439f9812d920a0d5bf5d66e4a60c981234a"
   }
  }
 },
 "nbformat": 4,
 "nbformat_minor": 4
}
