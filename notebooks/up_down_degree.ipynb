{
 "cells": [
  {
   "cell_type": "code",
   "execution_count": 1,
   "metadata": {},
   "outputs": [
    {
     "data": {
      "text/plain": [
       "'/home/liz/Dropbox/Math/ResearchProjects/ReebGraphs/Code/ceREEBerus/notebooks'"
      ]
     },
     "execution_count": 1,
     "metadata": {},
     "output_type": "execute_result"
    }
   ],
   "source": [
    "pwd"
   ]
  },
  {
   "cell_type": "code",
   "execution_count": 2,
   "metadata": {},
   "outputs": [
    {
     "name": "stdout",
     "output_type": "stream",
     "text": [
      "/home/liz/Dropbox/Math/ResearchProjects/ReebGraphs/Code/ceREEBerus\n"
     ]
    }
   ],
   "source": [
    "cd ..\n"
   ]
  },
  {
   "cell_type": "code",
   "execution_count": 3,
   "metadata": {},
   "outputs": [
    {
     "name": "stdout",
     "output_type": "stream",
     "text": [
      "\u001b[0m\u001b[01;34mcereeberus\u001b[0m/  \u001b[01;34mdoc_source\u001b[0m/  Makefile    pyproject.toml  Untitled.ipynb\r\n",
      "\u001b[01;34mdocs\u001b[0m/        LICENSE      \u001b[01;34mnotebooks\u001b[0m/  README.md\r\n"
     ]
    }
   ],
   "source": [
    "ls"
   ]
  },
  {
   "cell_type": "code",
   "execution_count": 4,
   "metadata": {},
   "outputs": [
    {
     "name": "stdout",
     "output_type": "stream",
     "text": [
      "Processing /home/liz/Dropbox/Math/ResearchProjects/ReebGraphs/Code/ceREEBerus\n",
      "\u001b[33m  DEPRECATION: A future pip version will change local packages to be built in-place without first copying to a temporary directory. We recommend you use --use-feature=in-tree-build to test your packages with this new behavior before it becomes the default.\n",
      "   pip 21.3 will remove support for this functionality. You can find discussion regarding this at https://github.com/pypa/pip/issues/7555.\u001b[0m\n",
      "  Installing build dependencies ... \u001b[?25ldone\n",
      "\u001b[?25h  Getting requirements to build wheel ... \u001b[?25ldone\n",
      "\u001b[?25h    Preparing wheel metadata ... \u001b[?25ldone\n",
      "\u001b[?25hRequirement already satisfied: matplotlib in /home/liz/Programs/anaconda3/lib/python3.9/site-packages (from cereeberus==0.0.5) (3.4.3)\n",
      "Requirement already satisfied: numpy in /home/liz/Programs/anaconda3/lib/python3.9/site-packages (from cereeberus==0.0.5) (1.20.3)\n",
      "Requirement already satisfied: networkx in /home/liz/Programs/anaconda3/lib/python3.9/site-packages (from cereeberus==0.0.5) (2.6.3)\n",
      "Requirement already satisfied: kiwisolver>=1.0.1 in /home/liz/Programs/anaconda3/lib/python3.9/site-packages (from matplotlib->cereeberus==0.0.5) (1.3.1)\n",
      "Requirement already satisfied: cycler>=0.10 in /home/liz/Programs/anaconda3/lib/python3.9/site-packages (from matplotlib->cereeberus==0.0.5) (0.10.0)\n",
      "Requirement already satisfied: pillow>=6.2.0 in /home/liz/Programs/anaconda3/lib/python3.9/site-packages (from matplotlib->cereeberus==0.0.5) (8.4.0)\n",
      "Requirement already satisfied: python-dateutil>=2.7 in /home/liz/Programs/anaconda3/lib/python3.9/site-packages (from matplotlib->cereeberus==0.0.5) (2.8.2)\n",
      "Requirement already satisfied: pyparsing>=2.2.1 in /home/liz/Programs/anaconda3/lib/python3.9/site-packages (from matplotlib->cereeberus==0.0.5) (3.0.4)\n",
      "Requirement already satisfied: six in /home/liz/Programs/anaconda3/lib/python3.9/site-packages (from cycler>=0.10->matplotlib->cereeberus==0.0.5) (1.16.0)\n",
      "Building wheels for collected packages: cereeberus\n",
      "  Building wheel for cereeberus (PEP 517) ... \u001b[?25ldone\n",
      "\u001b[?25h  Created wheel for cereeberus: filename=cereeberus-0.0.5-py3-none-any.whl size=14815 sha256=48a86a348d07ec533d42235d0f0e3764b9d849d346bcd9e92da4bdd3adfc1361\n",
      "  Stored in directory: /tmp/pip-ephem-wheel-cache-q_hijh41/wheels/38/46/a8/4e0f6187fd6312813b3a5eddcf7d24ba67e40e3beb6c874030\n",
      "Successfully built cereeberus\n",
      "Installing collected packages: cereeberus\n",
      "  Attempting uninstall: cereeberus\n",
      "    Found existing installation: cereeberus 0.0.5\n",
      "    Uninstalling cereeberus-0.0.5:\n",
      "      Successfully uninstalled cereeberus-0.0.5\n",
      "Successfully installed cereeberus-0.0.5\n",
      "Note: you may need to restart the kernel to use updated packages.\n"
     ]
    }
   ],
   "source": [
    "pip install ."
   ]
  },
  {
   "cell_type": "code",
   "execution_count": 5,
   "metadata": {},
   "outputs": [],
   "source": [
    "# Basic imports \n",
    "import networkx as nx\n",
    "import matplotlib"
   ]
  },
  {
   "cell_type": "markdown",
   "metadata": {},
   "source": [
    "# Examples of Reeb graphs\n",
    "\n",
    "In the following notebook, we show examples of Reeb graphs that are included in the package which show functionality related to the main class. All Reeb graphs are stored as the class `cereberus.reeb.Reeb`."
   ]
  },
  {
   "cell_type": "code",
   "execution_count": 6,
   "metadata": {},
   "outputs": [],
   "source": [
    "from cereeberus.reeb import Reeb"
   ]
  },
  {
   "cell_type": "code",
   "execution_count": 8,
   "metadata": {},
   "outputs": [
    {
     "name": "stdout",
     "output_type": "stream",
     "text": [
      "G is a  <class 'networkx.classes.graph.Graph'>\n"
     ]
    }
   ],
   "source": [
    "from cereeberus.data import graphs\n",
    "\n",
    "G = graphs.torus_graph()\n",
    "print('G is a ', type(G) )"
   ]
  },
  {
   "cell_type": "code",
   "execution_count": 9,
   "metadata": {},
   "outputs": [
    {
     "data": {
      "text/plain": [
       "{'pos': (1, 1), 'fx': 1}"
      ]
     },
     "execution_count": 9,
     "metadata": {},
     "output_type": "execute_result"
    }
   ],
   "source": [
    "G.nodes[0]"
   ]
  },
  {
   "cell_type": "code",
   "execution_count": 10,
   "metadata": {},
   "outputs": [],
   "source": [
    "r = Reeb(G)"
   ]
  },
  {
   "cell_type": "code",
   "execution_count": 11,
   "metadata": {},
   "outputs": [
    {
     "data": {
      "image/png": "[encoded data removed]",
      "text/plain": [
       "<Figure size 432x288 with 1 Axes>"
      ]
     },
     "metadata": {},
     "output_type": "display_data"
    }
   ],
   "source": [
    "r.plot_reeb(r.pos_fx)"
   ]
  },
  {
   "cell_type": "code",
   "execution_count": 13,
   "metadata": {},
   "outputs": [
    {
     "ename": "AttributeError",
     "evalue": "No function values provided - please provide a function value for each node or update your graph to have the 'fx' attribute",
     "output_type": "error",
     "traceback": [
      "\u001b[0;31m---------------------------------------------------------------------------\u001b[0m",
      "\u001b[0;31mAttributeError\u001b[0m                            Traceback (most recent call last)",
      "\u001b[0;32m/tmp/ipykernel_22309/93080774.py\u001b[0m in \u001b[0;36m<module>\u001b[0;34m\u001b[0m\n\u001b[1;32m      3\u001b[0m \u001b[0;34m\u001b[0m\u001b[0m\n\u001b[1;32m      4\u001b[0m \u001b[0mGn\u001b[0m \u001b[0;34m=\u001b[0m \u001b[0mgraphs\u001b[0m\u001b[0;34m.\u001b[0m\u001b[0mreeb_torus_no_fx\u001b[0m\u001b[0;34m(\u001b[0m\u001b[0;34m)\u001b[0m\u001b[0;34m\u001b[0m\u001b[0;34m\u001b[0m\u001b[0m\n\u001b[0;32m----> 5\u001b[0;31m \u001b[0mrn\u001b[0m \u001b[0;34m=\u001b[0m \u001b[0mReeb\u001b[0m\u001b[0;34m(\u001b[0m\u001b[0mGn\u001b[0m\u001b[0;34m)\u001b[0m\u001b[0;34m\u001b[0m\u001b[0;34m\u001b[0m\u001b[0m\n\u001b[0m",
      "\u001b[0;32m~/Dropbox/Math/ResearchProjects/ReebGraphs/Code/ceREEBerus/cereeberus/reeb.py\u001b[0m in \u001b[0;36m__init__\u001b[0;34m(self, G, fx)\u001b[0m\n\u001b[1;32m     17\u001b[0m             \u001b[0mself\u001b[0m\u001b[0;34m.\u001b[0m\u001b[0mfx\u001b[0m \u001b[0;34m=\u001b[0m \u001b[0mfx\u001b[0m\u001b[0;34m\u001b[0m\u001b[0;34m\u001b[0m\u001b[0m\n\u001b[1;32m     18\u001b[0m         \u001b[0;32mif\u001b[0m \u001b[0mself\u001b[0m\u001b[0;34m.\u001b[0m\u001b[0mfx\u001b[0m \u001b[0;34m==\u001b[0m \u001b[0;34m{\u001b[0m\u001b[0;34m}\u001b[0m\u001b[0;34m:\u001b[0m\u001b[0;34m\u001b[0m\u001b[0;34m\u001b[0m\u001b[0m\n\u001b[0;32m---> 19\u001b[0;31m             \u001b[0;32mraise\u001b[0m \u001b[0mAttributeError\u001b[0m\u001b[0;34m(\u001b[0m\u001b[0;34m\"No function values provided - please provide a function value for each node or update your graph to have the 'fx' attribute\"\u001b[0m\u001b[0;34m)\u001b[0m\u001b[0;34m\u001b[0m\u001b[0;34m\u001b[0m\u001b[0m\n\u001b[0m\u001b[1;32m     20\u001b[0m         \u001b[0mself\u001b[0m\u001b[0;34m.\u001b[0m\u001b[0mpos\u001b[0m \u001b[0;34m=\u001b[0m \u001b[0mnx\u001b[0m\u001b[0;34m.\u001b[0m\u001b[0mspring_layout\u001b[0m\u001b[0;34m(\u001b[0m\u001b[0mself\u001b[0m\u001b[0;34m.\u001b[0m\u001b[0mG\u001b[0m\u001b[0;34m)\u001b[0m\u001b[0;34m\u001b[0m\u001b[0;34m\u001b[0m\u001b[0m\n\u001b[1;32m     21\u001b[0m         \u001b[0mself\u001b[0m\u001b[0;34m.\u001b[0m\u001b[0mpos_fx\u001b[0m \u001b[0;34m=\u001b[0m \u001b[0;34m{\u001b[0m\u001b[0;34m}\u001b[0m\u001b[0;34m\u001b[0m\u001b[0;34m\u001b[0m\u001b[0m\n",
      "\u001b[0;31mAttributeError\u001b[0m: No function values provided - please provide a function value for each node or update your graph to have the 'fx' attribute"
     ]
    }
   ],
   "source": [
    "# This example should throw an error since it didn't have \n",
    "# function values included\n",
    "\n",
    "Gn = graphs.reeb_torus_no_fx()\n",
    "rn = Reeb(Gn)"
   ]
  },
  {
   "cell_type": "code",
   "execution_count": 14,
   "metadata": {},
   "outputs": [],
   "source": [
    "fx = [1, 1, .5, 1.5, 1, 1]"
   ]
  },
  {
   "cell_type": "code",
   "execution_count": 15,
   "metadata": {},
   "outputs": [],
   "source": [
    "rn = Reeb(Gn, fx)"
   ]
  },
  {
   "cell_type": "code",
   "execution_count": 16,
   "metadata": {},
   "outputs": [
    {
     "data": {
      "image/png": "[encoded data removed]",
      "text/plain": [
       "<Figure size 432x288 with 1 Axes>"
      ]
     },
     "metadata": {},
     "output_type": "display_data"
    }
   ],
   "source": [
    "rn.plot_reeb(rn.pos_fx)"
   ]
  },
  {
   "cell_type": "code",
   "execution_count": 17,
   "metadata": {},
   "outputs": [],
   "source": [
    "Gf = graphs.favorite_0()\n",
    "position = nx.get_node_attributes(Gf,'pos')"
   ]
  },
  {
   "cell_type": "code",
   "execution_count": 18,
   "metadata": {},
   "outputs": [],
   "source": [
    "rf = Reeb(Gf)"
   ]
  },
  {
   "cell_type": "code",
   "execution_count": 19,
   "metadata": {},
   "outputs": [
    {
     "data": {
      "image/png": "[encoded data removed]",
      "text/plain": [
       "<Figure size 432x288 with 1 Axes>"
      ]
     },
     "metadata": {},
     "output_type": "display_data"
    }
   ],
   "source": [
    "rf.plot_reeb(position)"
   ]
  },
  {
   "cell_type": "code",
   "execution_count": null,
   "metadata": {},
   "outputs": [],
   "source": []
  },
  {
   "cell_type": "code",
   "execution_count": null,
   "metadata": {},
   "outputs": [],
   "source": []
  }
 ],
 "metadata": {
  "kernelspec": {
   "display_name": "Python 3 (ipykernel)",
   "language": "python",
   "name": "python3"
  },
  "language_info": {
   "codemirror_mode": {
    "name": "ipython",
    "version": 3
   },
   "file_extension": ".py",
   "mimetype": "text/x-python",
   "name": "python",
   "nbconvert_exporter": "python",
   "pygments_lexer": "ipython3",
   "version": "3.9.7"
  },
  "vscode": {
   "interpreter": {
    "hash": "3e3338d56a43a0108f5ff8ffc1915439f9812d920a0d5bf5d66e4a60c981234a"
   }
  }
 },
 "nbformat": 4,
 "nbformat_minor": 4
}
