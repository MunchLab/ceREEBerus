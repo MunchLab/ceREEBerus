{
 "cells": [
  {
   "cell_type": "code",
   "execution_count": 1,
   "metadata": {},
   "outputs": [
    {
     "name": "stdout",
     "output_type": "stream",
     "text": [
      "/Users/daniellebarnes/development/ceREEBerus\n"
     ]
    }
   ],
   "source": [
    "cd .."
   ]
  },
  {
   "cell_type": "code",
   "execution_count": 2,
   "metadata": {},
   "outputs": [
    {
     "name": "stdout",
     "output_type": "stream",
     "text": [
      "Processing /Users/daniellebarnes/development/ceREEBerus\n",
      "  Installing build dependencies ... \u001b[?25ldone\n",
      "\u001b[?25h  Getting requirements to build wheel ... \u001b[?25ldone\n",
      "\u001b[?25h    Preparing wheel metadata ... \u001b[?25ldone\n",
      "\u001b[?25hRequirement already satisfied: numpy in ./venv/lib/python3.8/site-packages (from cereeberus==0.0.5) (1.23.4)\n",
      "Requirement already satisfied: matplotlib in ./venv/lib/python3.8/site-packages (from cereeberus==0.0.5) (3.6.2)\n",
      "Requirement already satisfied: networkx in ./venv/lib/python3.8/site-packages (from cereeberus==0.0.5) (2.8.8)\n",
      "Requirement already satisfied: pillow>=6.2.0 in ./venv/lib/python3.8/site-packages (from matplotlib->cereeberus==0.0.5) (9.3.0)\n",
      "Requirement already satisfied: packaging>=20.0 in ./venv/lib/python3.8/site-packages (from matplotlib->cereeberus==0.0.5) (21.3)\n",
      "Requirement already satisfied: kiwisolver>=1.0.1 in ./venv/lib/python3.8/site-packages (from matplotlib->cereeberus==0.0.5) (1.4.4)\n",
      "Requirement already satisfied: cycler>=0.10 in ./venv/lib/python3.8/site-packages (from matplotlib->cereeberus==0.0.5) (0.11.0)\n",
      "Requirement already satisfied: contourpy>=1.0.1 in ./venv/lib/python3.8/site-packages (from matplotlib->cereeberus==0.0.5) (1.0.6)\n",
      "Requirement already satisfied: pyparsing>=2.2.1 in ./venv/lib/python3.8/site-packages (from matplotlib->cereeberus==0.0.5) (3.0.9)\n",
      "Requirement already satisfied: python-dateutil>=2.7 in ./venv/lib/python3.8/site-packages (from matplotlib->cereeberus==0.0.5) (2.8.2)\n",
      "Requirement already satisfied: fonttools>=4.22.0 in ./venv/lib/python3.8/site-packages (from matplotlib->cereeberus==0.0.5) (4.38.0)\n",
      "Requirement already satisfied: six>=1.5 in ./venv/lib/python3.8/site-packages (from python-dateutil>=2.7->matplotlib->cereeberus==0.0.5) (1.16.0)\n",
      "Building wheels for collected packages: cereeberus\n",
      "  Building wheel for cereeberus (PEP 517) ... \u001b[?25ldone\n",
      "\u001b[?25h  Created wheel for cereeberus: filename=cereeberus-0.0.5-py3-none-any.whl size=16123 sha256=e7427a11fd30f11d7fb4937fe7bc797d437f7fd84d2c265ecd585905063ec7d6\n",
      "  Stored in directory: /private/var/folders/p6/pn26dbmx4jj67d6nh7m6557h0000gn/T/pip-ephem-wheel-cache-vspeb7sy/wheels/ba/0b/08/8340df22f780a7a3281c7f7e134235d0cced784225c7bf2d6f\n",
      "Successfully built cereeberus\n",
      "Installing collected packages: cereeberus\n",
      "  Attempting uninstall: cereeberus\n",
      "    Found existing installation: cereeberus 0.0.5\n",
      "    Uninstalling cereeberus-0.0.5:\n",
      "      Successfully uninstalled cereeberus-0.0.5\n",
      "Successfully installed cereeberus-0.0.5\n",
      "\u001b[33mWARNING: You are using pip version 20.2.3; however, version 22.3.1 is available.\n",
      "You should consider upgrading via the '/Users/daniellebarnes/development/ceREEBerus/venv/bin/python -m pip install --upgrade pip' command.\u001b[0m\n",
      "Note: you may need to restart the kernel to use updated packages.\n"
     ]
    }
   ],
   "source": [
    "pip install ."
   ]
  },
  {
   "cell_type": "code",
   "execution_count": 3,
   "metadata": {},
   "outputs": [],
   "source": [
    "# Basic imports \n",
    "import networkx as nx"
   ]
  },
  {
   "cell_type": "markdown",
   "metadata": {},
   "source": [
    "# Examples of Up Down Degree Computation\n",
    "\n",
    "In the dancing man graph below, we compute the up and down degree and test the function is correct"
   ]
  },
  {
   "cell_type": "code",
   "execution_count": 4,
   "metadata": {},
   "outputs": [],
   "source": [
    "from cereeberus.reeb import Reeb\n",
    "from cereeberus.data import graphs"
   ]
  },
  {
   "cell_type": "code",
   "execution_count": 5,
   "metadata": {},
   "outputs": [],
   "source": [
    "Gf = graphs.favorite_0()\n",
    "position = nx.get_node_attributes(Gf,'pos')"
   ]
  },
  {
   "cell_type": "code",
   "execution_count": 6,
   "metadata": {},
   "outputs": [
    {
     "ename": "AttributeError",
     "evalue": "'dict' object has no attribute 'nodes'",
     "output_type": "error",
     "traceback": [
      "\u001b[0;31m---------------------------------------------------------------------------\u001b[0m",
      "\u001b[0;31mAttributeError\u001b[0m                            Traceback (most recent call last)",
      "\u001b[0;32m<ipython-input-6-4f1f4131688b>\u001b[0m in \u001b[0;36m<module>\u001b[0;34m\u001b[0m\n\u001b[0;32m----> 1\u001b[0;31m \u001b[0mrf\u001b[0m \u001b[0;34m=\u001b[0m \u001b[0mReeb\u001b[0m\u001b[0;34m(\u001b[0m\u001b[0mGf\u001b[0m\u001b[0;34m)\u001b[0m\u001b[0;34m\u001b[0m\u001b[0;34m\u001b[0m\u001b[0m\n\u001b[0m",
      "\u001b[0;32m~/development/ceREEBerus/cereeberus/reeb.py\u001b[0m in \u001b[0;36m__init__\u001b[0;34m(self, G, fx)\u001b[0m\n\u001b[1;32m     26\u001b[0m \u001b[0;34m\u001b[0m\u001b[0m\n\u001b[1;32m     27\u001b[0m         \u001b[0;31m# compute upper and lower degree of reeb graph\u001b[0m\u001b[0;34m\u001b[0m\u001b[0;34m\u001b[0m\u001b[0;34m\u001b[0m\u001b[0m\n\u001b[0;32m---> 28\u001b[0;31m         \u001b[0mself\u001b[0m\u001b[0;34m.\u001b[0m\u001b[0mup_deg\u001b[0m \u001b[0;34m=\u001b[0m \u001b[0mdegree\u001b[0m\u001b[0;34m.\u001b[0m\u001b[0mup_deg\u001b[0m\u001b[0;34m(\u001b[0m\u001b[0mself\u001b[0m\u001b[0;34m.\u001b[0m\u001b[0mG\u001b[0m\u001b[0;34m,\u001b[0m \u001b[0mself\u001b[0m\u001b[0;34m.\u001b[0m\u001b[0mfx\u001b[0m\u001b[0;34m)\u001b[0m\u001b[0;34m\u001b[0m\u001b[0;34m\u001b[0m\u001b[0m\n\u001b[0m\u001b[1;32m     29\u001b[0m         \u001b[0mself\u001b[0m\u001b[0;34m.\u001b[0m\u001b[0mdown_deg\u001b[0m \u001b[0;34m=\u001b[0m \u001b[0mdegree\u001b[0m\u001b[0;34m.\u001b[0m\u001b[0mdown_deg\u001b[0m\u001b[0;34m(\u001b[0m\u001b[0mself\u001b[0m\u001b[0;34m.\u001b[0m\u001b[0mG\u001b[0m\u001b[0;34m,\u001b[0m \u001b[0mself\u001b[0m\u001b[0;34m.\u001b[0m\u001b[0mfx\u001b[0m\u001b[0;34m)\u001b[0m\u001b[0;34m\u001b[0m\u001b[0;34m\u001b[0m\u001b[0m\n\u001b[1;32m     30\u001b[0m \u001b[0;34m\u001b[0m\u001b[0m\n",
      "\u001b[0;32m~/development/ceREEBerus/venv/lib/python3.8/site-packages/compute/degree.py\u001b[0m in \u001b[0;36mup_deg\u001b[0;34m(self, G, fx)\u001b[0m\n\u001b[1;32m     11\u001b[0m \u001b[0;34m\u001b[0m\u001b[0m\n\u001b[1;32m     12\u001b[0m     \u001b[0;32mimport\u001b[0m \u001b[0mnumpy\u001b[0m \u001b[0;32mas\u001b[0m \u001b[0mnp\u001b[0m\u001b[0;34m\u001b[0m\u001b[0;34m\u001b[0m\u001b[0m\n\u001b[0;32m---> 13\u001b[0;31m     \u001b[0mn\u001b[0m \u001b[0;34m=\u001b[0m \u001b[0mlen\u001b[0m\u001b[0;34m(\u001b[0m\u001b[0mG\u001b[0m\u001b[0;34m.\u001b[0m\u001b[0mnodes\u001b[0m\u001b[0;34m)\u001b[0m\u001b[0;34m\u001b[0m\u001b[0;34m\u001b[0m\u001b[0m\n\u001b[0m\u001b[1;32m     14\u001b[0m     \u001b[0mup_adj\u001b[0m \u001b[0;34m=\u001b[0m \u001b[0mnp\u001b[0m\u001b[0;34m.\u001b[0m\u001b[0mzeros\u001b[0m\u001b[0;34m(\u001b[0m\u001b[0;34m(\u001b[0m\u001b[0mn\u001b[0m\u001b[0;34m,\u001b[0m\u001b[0mn\u001b[0m\u001b[0;34m)\u001b[0m\u001b[0;34m)\u001b[0m\u001b[0;34m\u001b[0m\u001b[0;34m\u001b[0m\u001b[0m\n\u001b[1;32m     15\u001b[0m \u001b[0;34m\u001b[0m\u001b[0m\n",
      "\u001b[0;31mAttributeError\u001b[0m: 'dict' object has no attribute 'nodes'"
     ]
    }
   ],
   "source": [
    "rf = Reeb(Gf)"
   ]
  },
  {
   "cell_type": "code",
   "execution_count": 6,
   "metadata": {},
   "outputs": [
    {
     "ename": "NameError",
     "evalue": "name 'rf' is not defined",
     "output_type": "error",
     "traceback": [
      "\u001b[0;31m---------------------------------------------------------------------------\u001b[0m",
      "\u001b[0;31mNameError\u001b[0m                                 Traceback (most recent call last)",
      "\u001b[0;32m<ipython-input-6-a8bd891bcb60>\u001b[0m in \u001b[0;36m<module>\u001b[0;34m\u001b[0m\n\u001b[0;32m----> 1\u001b[0;31m \u001b[0mrf\u001b[0m\u001b[0;34m.\u001b[0m\u001b[0mplot_reeb\u001b[0m\u001b[0;34m(\u001b[0m\u001b[0mposition\u001b[0m\u001b[0;34m)\u001b[0m\u001b[0;34m\u001b[0m\u001b[0;34m\u001b[0m\u001b[0m\n\u001b[0m",
      "\u001b[0;31mNameError\u001b[0m: name 'rf' is not defined"
     ]
    }
   ],
   "source": [
    "rf.plot_reeb(position)"
   ]
  },
  {
   "cell_type": "code",
   "execution_count": 18,
   "metadata": {},
   "outputs": [
    {
     "data": {
      "text/plain": [
       "{0: 1, 1: 2, 2: 2, 3: 1, 4: 1, 5: 0, 6: 1, 7: 0}"
      ]
     },
     "execution_count": 18,
     "metadata": {},
     "output_type": "execute_result"
    }
   ],
   "source": [
    "up = nx.get_node_attributes(Gf,'up_deg')\n",
    "down = nx.get_node_attributes(Gf,'down_deg')\n",
    "up"
   ]
  },
  {
   "cell_type": "code",
   "execution_count": 19,
   "metadata": {},
   "outputs": [
    {
     "data": {
      "text/plain": [
       "{0: 1, 1: 2, 2: 2, 3: 1, 4: 1, 5: 0, 6: 1, 7: 0}"
      ]
     },
     "execution_count": 19,
     "metadata": {},
     "output_type": "execute_result"
    }
   ],
   "source": [
    "down"
   ]
  },
  {
   "cell_type": "code",
   "execution_count": 35,
   "metadata": {},
   "outputs": [
    {
     "data": {
      "text/plain": [
       "EdgeView([(0, 1), (1, 2), (1, 3), (2, 5), (2, 6), (3, 4), (3, 6), (6, 7)])"
      ]
     },
     "execution_count": 35,
     "metadata": {},
     "output_type": "execute_result"
    }
   ],
   "source": [
    "import numpy as np\n",
    "Gf.edges()"
   ]
  },
  {
   "cell_type": "code",
   "execution_count": 79,
   "metadata": {},
   "outputs": [
    {
     "data": {
      "text/plain": [
       "{0: 7, 1: 6, 2: 5, 3: 5, 4: 6, 5: 4, 6: 4, 7: 1}"
      ]
     },
     "execution_count": 79,
     "metadata": {},
     "output_type": "execute_result"
    }
   ],
   "source": [
    "fx = nx.get_node_attributes(Gf,'fx')\n",
    "fx"
   ]
  },
  {
   "cell_type": "code",
   "execution_count": 106,
   "metadata": {},
   "outputs": [],
   "source": [
    "n = len(down)\n",
    "down_adj = np.zeros((n,n))\n",
    "down_adj\n",
    "\n",
    "for i in range(0,n):\n",
    "    for j in range(i,n):\n",
    "        if fx[i] > fx[j]:\n",
    "            e = list(Gf.edges(i))\n",
    "            if (i,j) in e:\n",
    "                down_adj[j,i]+=1\n",
    "        if fx[i] < fx[j]:\n",
    "            e = list(Gf.edges(i))\n",
    "            if (i,j) in e:\n",
    "                down_adj[i,j]+=1\n",
    "\n",
    "d = sum(down_adj)\n",
    "\n",
    "down = {}\n",
    "for i in range(0,n):\n",
    "    down[i] = int(d[i])"
   ]
  },
  {
   "cell_type": "code",
   "execution_count": 109,
   "metadata": {},
   "outputs": [],
   "source": [
    "n = len(up)\n",
    "up_adj = np.zeros((n,n))\n",
    "up_adj\n",
    "\n",
    "for i in range(0,n):\n",
    "    for j in range(i,n):\n",
    "        if fx[i] < fx[j]:\n",
    "            e = list(Gf.edges(i))\n",
    "            if (i,j) in e:\n",
    "                up_adj[j,i]+=1\n",
    "        if fx[i] > fx[j]:\n",
    "            e = list(Gf.edges(i))\n",
    "            if (i,j) in e:\n",
    "                up_adj[i,j]+=1\n",
    "\n",
    "d = sum(up_adj)\n",
    "\n",
    "up = {}\n",
    "for i in range(0,n):\n",
    "    up[i] = int(d[i])"
   ]
  },
  {
   "cell_type": "code",
   "execution_count": 110,
   "metadata": {},
   "outputs": [
    {
     "data": {
      "text/plain": [
       "{0: 0, 1: 1, 2: 1, 3: 2, 4: 0, 5: 1, 6: 2, 7: 1}"
      ]
     },
     "execution_count": 110,
     "metadata": {},
     "output_type": "execute_result"
    }
   ],
   "source": [
    "\n",
    "up"
   ]
  },
  {
   "cell_type": "code",
   "execution_count": 113,
   "metadata": {},
   "outputs": [
    {
     "data": {
      "text/plain": [
       "8"
      ]
     },
     "execution_count": 113,
     "metadata": {},
     "output_type": "execute_result"
    }
   ],
   "source": [
    "len(Gf.nodes)"
   ]
  },
  {
   "cell_type": "code",
   "execution_count": 41,
   "metadata": {},
   "outputs": [
    {
     "data": {
      "image/png": "[encoded data removed]",
      "text/plain": [
       "<Figure size 432x288 with 1 Axes>"
      ]
     },
     "metadata": {},
     "output_type": "display_data"
    }
   ],
   "source": [
    "nx.draw(Gf)"
   ]
  }
 ],
 "metadata": {
  "kernelspec": {
   "display_name": "Python 3.8.8 ('venv': venv)",
   "language": "python",
   "name": "python3"
  },
  "language_info": {
   "codemirror_mode": {
    "name": "ipython",
    "version": 3
   },
   "file_extension": ".py",
   "mimetype": "text/x-python",
   "name": "python",
   "nbconvert_exporter": "python",
   "pygments_lexer": "ipython3",
   "version": "3.8.8"
  },
  "vscode": {
   "interpreter": {
    "hash": "896ededc2562ed8c34e5f157358d1476f927df153b7f438b06ab6650204bd22f"
   }
  }
 },
 "nbformat": 4,
 "nbformat_minor": 4
}
