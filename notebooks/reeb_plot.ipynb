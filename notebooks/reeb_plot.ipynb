{
 "cells": [
  {
   "cell_type": "code",
   "execution_count": 1,
   "metadata": {},
   "outputs": [
    {
     "name": "stdout",
     "output_type": "stream",
     "text": [
      "/Users/daniellebarnes/development/ceREEBerus\n"
     ]
    }
   ],
   "source": [
    "cd ..\n"
   ]
  },
  {
   "cell_type": "code",
   "execution_count": 2,
   "metadata": {},
   "outputs": [
    {
     "name": "stdout",
     "output_type": "stream",
     "text": [
      "Processing /Users/daniellebarnes/development/ceREEBerus\n",
      "  Installing build dependencies ... \u001b[?25ldone\n",
      "\u001b[?25h  Getting requirements to build wheel ... \u001b[?25ldone\n",
      "\u001b[?25h    Preparing wheel metadata ... \u001b[?25ldone\n",
      "\u001b[?25hRequirement already satisfied: numpy in ./venv/lib/python3.8/site-packages (from cereeberus==0.0.5) (1.23.4)\n",
      "Requirement already satisfied: matplotlib in ./venv/lib/python3.8/site-packages (from cereeberus==0.0.5) (3.6.2)\n",
      "Requirement already satisfied: networkx in ./venv/lib/python3.8/site-packages (from cereeberus==0.0.5) (2.8.8)\n",
      "Requirement already satisfied: fonttools>=4.22.0 in ./venv/lib/python3.8/site-packages (from matplotlib->cereeberus==0.0.5) (4.38.0)\n",
      "Requirement already satisfied: cycler>=0.10 in ./venv/lib/python3.8/site-packages (from matplotlib->cereeberus==0.0.5) (0.11.0)\n",
      "Requirement already satisfied: python-dateutil>=2.7 in ./venv/lib/python3.8/site-packages (from matplotlib->cereeberus==0.0.5) (2.8.2)\n",
      "Requirement already satisfied: packaging>=20.0 in ./venv/lib/python3.8/site-packages (from matplotlib->cereeberus==0.0.5) (21.3)\n",
      "Requirement already satisfied: kiwisolver>=1.0.1 in ./venv/lib/python3.8/site-packages (from matplotlib->cereeberus==0.0.5) (1.4.4)\n",
      "Requirement already satisfied: pyparsing>=2.2.1 in ./venv/lib/python3.8/site-packages (from matplotlib->cereeberus==0.0.5) (3.0.9)\n",
      "Requirement already satisfied: contourpy>=1.0.1 in ./venv/lib/python3.8/site-packages (from matplotlib->cereeberus==0.0.5) (1.0.6)\n",
      "Requirement already satisfied: pillow>=6.2.0 in ./venv/lib/python3.8/site-packages (from matplotlib->cereeberus==0.0.5) (9.3.0)\n",
      "Requirement already satisfied: six>=1.5 in ./venv/lib/python3.8/site-packages (from python-dateutil>=2.7->matplotlib->cereeberus==0.0.5) (1.16.0)\n",
      "Building wheels for collected packages: cereeberus\n",
      "  Building wheel for cereeberus (PEP 517) ... \u001b[?25ldone\n",
      "\u001b[?25h  Created wheel for cereeberus: filename=cereeberus-0.0.5-py3-none-any.whl size=16158 sha256=f083d44d7b73f8fd53c07a4651698ba721c26de0d789e757d338b7a627132abc\n",
      "  Stored in directory: /private/var/folders/p6/pn26dbmx4jj67d6nh7m6557h0000gn/T/pip-ephem-wheel-cache-z_y3xvix/wheels/ba/0b/08/8340df22f780a7a3281c7f7e134235d0cced784225c7bf2d6f\n",
      "Successfully built cereeberus\n",
      "Installing collected packages: cereeberus\n",
      "  Attempting uninstall: cereeberus\n",
      "    Found existing installation: cereeberus 0.0.5\n",
      "    Uninstalling cereeberus-0.0.5:\n",
      "      Successfully uninstalled cereeberus-0.0.5\n",
      "Successfully installed cereeberus-0.0.5\n",
      "\u001b[33mWARNING: You are using pip version 20.2.3; however, version 22.3.1 is available.\n",
      "You should consider upgrading via the '/Users/daniellebarnes/development/ceREEBerus/venv/bin/python -m pip install --upgrade pip' command.\u001b[0m\n",
      "Note: you may need to restart the kernel to use updated packages.\n"
     ]
    }
   ],
   "source": [
    "pip install ."
   ]
  },
  {
   "cell_type": "code",
   "execution_count": 3,
   "metadata": {},
   "outputs": [],
   "source": [
    "# Basic imports \n",
    "import networkx as nx\n",
    "import matplotlib"
   ]
  },
  {
   "cell_type": "markdown",
   "metadata": {},
   "source": [
    "# Ept0[0]mples of Reeb graphs\n",
    "\n",
    "In the following notebook, we show ept0[0]mples of Reeb graphs that are included in the package which show functionality related to the main class. All Reeb graphs are stored as the class `cereberus.reeb.Reeb`."
   ]
  },
  {
   "cell_type": "code",
   "execution_count": 7,
   "metadata": {},
   "outputs": [],
   "source": [
    "from cereeberus.reeb import Reeb\n",
    "from cereeberus.data import graphs"
   ]
  },
  {
   "cell_type": "code",
   "execution_count": 14,
   "metadata": {},
   "outputs": [],
   "source": [
    "reeb_torus = graphs.reeb_torus()\n",
    "reeb_torus"
   ]
  },
  {
   "cell_type": "markdown",
   "metadata": {},
   "source": [
    "The Reeb Graph class has many attributes available such as nodes, edges, position, up degree, down degree, and function values provided at class instantiation"
   ]
  },
  {
   "cell_type": "code",
   "execution_count": 23,
   "metadata": {},
   "outputs": [
    {
     "name": "stdout",
     "output_type": "stream",
     "text": [
      "Reeb Graph nodes:  [0, 1, 2, 3, 4, 5]\n",
      "Reeb Graph edges:  [(0, 1), (1, 2), (1, 3), (2, 4), (3, 4), (4, 5)]\n",
      "Reeb Graph function values:  {0: 1, 1: 2, 2: 3, 3: 3, 4: 4, 5: 5}\n",
      "Reeb Graph up degree:  {0: 1, 1: 2, 2: 1, 3: 1, 4: 1, 5: 0}\n",
      "Reeb Graph down degree:  {0: 0, 1: 1, 2: 1, 3: 1, 4: 2, 5: 1}\n"
     ]
    }
   ],
   "source": [
    "print(\"Reeb Graph nodes: \", reeb_torus.nodes)\n",
    "print(\"Reeb Graph edges: \", reeb_torus.edges)\n",
    "print(\"Reeb Graph function values: \", reeb_torus.fx)\n",
    "print(\"Reeb Graph up degree: \", reeb_torus.up_deg)\n",
    "print(\"Reeb Graph down degree: \", reeb_torus.down_deg)"
   ]
  },
  {
   "cell_type": "code",
   "execution_count": 53,
   "metadata": {},
   "outputs": [
    {
     "data": {
      "text/plain": [
       "AdjacencyView({0: {1: {}}, 1: {0: {}, 2: {}, 3: {}}, 2: {1: {}, 5: {}, 6: {}}, 3: {1: {}, 4: {}, 6: {}}, 4: {3: {}}, 5: {2: {}}, 6: {2: {}, 3: {}, 7: {}}, 7: {6: {}}})"
      ]
     },
     "execution_count": 53,
     "metadata": {},
     "output_type": "execute_result"
    }
   ],
   "source": [
    "dm = graphs.dancing_man()\n"
   ]
  },
  {
   "cell_type": "code",
   "execution_count": 49,
   "metadata": {},
   "outputs": [
    {
     "data": {
      "text/plain": [
       "6"
      ]
     },
     "execution_count": 49,
     "metadata": {},
     "output_type": "execute_result"
    }
   ],
   "source": [
    "len(reeb_torus.nodes)"
   ]
  },
  {
   "cell_type": "code",
   "execution_count": 19,
   "metadata": {},
   "outputs": [
    {
     "data": {
      "text/plain": [
       "{0: 1, 1: 2, 2: 3, 3: 3, 4: 4, 5: 5}"
      ]
     },
     "execution_count": 19,
     "metadata": {},
     "output_type": "execute_result"
    }
   ],
   "source": [
    "reeb_torus.fx"
   ]
  },
  {
   "cell_type": "code",
   "execution_count": 41,
   "metadata": {},
   "outputs": [
    {
     "data": {
      "text/plain": [
       "<cereeberus.reeb.Reeb at 0x7f9b11a40790>"
      ]
     },
     "execution_count": 41,
     "metadata": {},
     "output_type": "execute_result"
    }
   ],
   "source": [
    "reeb_torus"
   ]
  },
  {
   "cell_type": "code",
   "execution_count": 9,
   "metadata": {},
   "outputs": [
    {
     "data": {
      "image/png": "[encoded data removed]",
      "text/plain": [
       "<Figure size 432x288 with 1 Axes>"
      ]
     },
     "metadata": {},
     "output_type": "display_data"
    }
   ],
   "source": [
    "r.plot_reeb(r.pos_fx)"
   ]
  },
  {
   "cell_type": "code",
   "execution_count": 11,
   "metadata": {},
   "outputs": [],
   "source": [
    "Gf = graphs.dancing_man()\n",
    "position = nx.get_node_attributes(Gf,'pos')"
   ]
  },
  {
   "cell_type": "code",
   "execution_count": 12,
   "metadata": {},
   "outputs": [],
   "source": [
    "rf = Reeb(Gf)"
   ]
  },
  {
   "cell_type": "code",
   "execution_count": 13,
   "metadata": {},
   "outputs": [
    {
     "data": {
      "image/png": "[encoded data removed]",
      "text/plain": [
       "<Figure size 432x288 with 1 Axes>"
      ]
     },
     "metadata": {},
     "output_type": "display_data"
    }
   ],
   "source": [
    "rf.plot_reeb(position)"
   ]
  },
  {
   "cell_type": "code",
   "execution_count": 62,
   "metadata": {},
   "outputs": [],
   "source": [
    "G = nx.MultiGraph(G)"
   ]
  },
  {
   "cell_type": "code",
   "execution_count": 58,
   "metadata": {},
   "outputs": [],
   "source": [
    "G = nx.Graph()\n",
    "G.add_node(0,pos=(1,1))\n",
    "G.add_node(1,pos=(1,2))\n",
    "G.add_edge(0,1)\n",
    "\n",
    "G.add_node(2,pos=(.5,3))\n",
    "G.add_node(3,pos=(1.5,3))\n",
    "G.add_edge(1,2)\n",
    "G.add_edge(1,3)\n",
    "\n",
    "G.add_node(4,pos=(1,4))\n",
    "G.add_edge(4,2)\n",
    "G.add_edge(4,3)\n",
    "\n",
    "G.add_node(5,pos=(1,5))\n",
    "G.add_edge(4,5)\n",
    "\n",
    "dd = {0: 0, 1: 1, 2: 1, 3: 1, 4: 2, 5: 1}\n",
    "nx.set_node_attributes(G, dd, 'down_deg')\n",
    "\n",
    "ud = {0: 1, 1: 2, 2: 1, 3: 1, 4: 1, 5: 0}\n",
    "nx.set_node_attributes(G, ud, 'up_deg')\n",
    "\n",
    "fx = {0: 1, 1: 2, 2: 3, 3: 3, 4: 4, 5: 5}\n",
    "nx.set_node_attributes(G, fx, 'fx')"
   ]
  },
  {
   "cell_type": "code",
   "execution_count": 69,
   "metadata": {},
   "outputs": [
    {
     "data": {
      "text/plain": [
       "0"
      ]
     },
     "execution_count": 69,
     "metadata": {},
     "output_type": "execute_result"
    }
   ],
   "source": [
    "G.add_edge(0,1)\n",
    "G.add_edge(0,0)"
   ]
  },
  {
   "cell_type": "code",
   "execution_count": 70,
   "metadata": {},
   "outputs": [
    {
     "data": {
      "image/png": "[encoded data removed]",
      "text/plain": [
       "<Figure size 432x288 with 1 Axes>"
      ]
     },
     "metadata": {},
     "output_type": "display_data"
    }
   ],
   "source": [
    "nx.draw(G)"
   ]
  },
  {
   "cell_type": "code",
   "execution_count": 83,
   "metadata": {},
   "outputs": [
    {
     "name": "stdout",
     "output_type": "stream",
     "text": [
      "Local cdn resources have problems on chrome/safari when used in jupyter-notebook. \n"
     ]
    },
    {
     "data": {
      "text/html": [
       "\n",
       "        <iframe\n",
       "            width=\"100%\"\n",
       "            height=\"600px\"\n",
       "            src=\"foo.html\"\n",
       "            frameborder=\"0\"\n",
       "            allowfullscreen\n",
       "        ></iframe>\n",
       "        "
      ],
      "text/plain": [
       "<IPython.lib.display.IFrame at 0x7f9b01ef02e0>"
      ]
     },
     "execution_count": 83,
     "metadata": {},
     "output_type": "execute_result"
    }
   ],
   "source": [
    "from pyvis.network import Network\n",
    "import networkx as nx\n",
    "\n",
    "g = nx.MultiGraph()\n",
    "g.add_node(0)\n",
    "g.add_node(1)\n",
    "g.add_edge(0, 1)\n",
    "g.add_edge(0, 1)\n",
    "\n",
    "nt = Network(directed=True, notebook=True)\n",
    "nt.from_nx(g)\n",
    "nt.set_edge_smooth('dynamic')\n",
    "nt.show('foo.html')"
   ]
  },
  {
   "cell_type": "code",
   "execution_count": 87,
   "metadata": {},
   "outputs": [
    {
     "data": {
      "text/plain": [
       "NodeView((0, 1, 2, 3, 4, 5))"
      ]
     },
     "execution_count": 87,
     "metadata": {},
     "output_type": "execute_result"
    }
   ],
   "source": [
    "G.nodes"
   ]
  },
  {
   "cell_type": "code",
   "execution_count": 88,
   "metadata": {},
   "outputs": [
    {
     "data": {
      "text/plain": [
       "MultiEdgeView([(0, 1, 0), (0, 1, 1), (0, 1, 2), (0, 0, 0), (1, 2, 0), (1, 3, 0), (2, 4, 0), (3, 4, 0), (4, 5, 0)])"
      ]
     },
     "execution_count": 88,
     "metadata": {},
     "output_type": "execute_result"
    }
   ],
   "source": [
    "G.edges"
   ]
  },
  {
   "cell_type": "code",
   "execution_count": 91,
   "metadata": {},
   "outputs": [
    {
     "data": {
      "text/plain": [
       "{0: 1, 1: 2, 2: 3, 3: 3, 4: 4, 5: 5}"
      ]
     },
     "execution_count": 91,
     "metadata": {},
     "output_type": "execute_result"
    }
   ],
   "source": [
    "G.fx"
   ]
  },
  {
   "cell_type": "code",
   "execution_count": 108,
   "metadata": {},
   "outputs": [
    {
     "data": {
      "text/plain": [
       "1"
      ]
     },
     "execution_count": 108,
     "metadata": {},
     "output_type": "execute_result"
    }
   ],
   "source": [
    "G.fx[0]"
   ]
  },
  {
   "cell_type": "code",
   "execution_count": 94,
   "metadata": {},
   "outputs": [
    {
     "data": {
      "text/plain": [
       "{0: (1, 1), 1: (1, 2), 2: (0.5, 3), 3: (1.5, 3), 4: (1, 4), 5: (1, 5)}"
      ]
     },
     "execution_count": 94,
     "metadata": {},
     "output_type": "execute_result"
    }
   ],
   "source": [
    "G.pos = pos\n",
    "G.pos"
   ]
  },
  {
   "cell_type": "code",
   "execution_count": 95,
   "metadata": {},
   "outputs": [
    {
     "data": {
      "text/plain": [
       "(1, 1)"
      ]
     },
     "execution_count": 95,
     "metadata": {},
     "output_type": "execute_result"
    }
   ],
   "source": [
    "G.pos[0]"
   ]
  },
  {
   "cell_type": "code",
   "execution_count": 121,
   "metadata": {},
   "outputs": [
    {
     "name": "stdout",
     "output_type": "stream",
     "text": [
      "5\n",
      "0\n"
     ]
    },
    {
     "data": {
      "text/plain": [
       "[0.2, 0.4, 0.6, 0.6, 0.8, 1.0]"
      ]
     },
     "execution_count": 121,
     "metadata": {},
     "output_type": "execute_result"
    }
   ],
   "source": [
    "n = len(G.nodes)\n",
    "fx_sum = 0\n",
    "fx_max = 0\n",
    "fx_min = 0\n",
    "for i in range(0, n):\n",
    "    fx_sum += G.fx[i]\n",
    "    fx_max = max(fx_max, G.fx[i])\n",
    "    fx_min = min(fx_min, G.fx[i])\n",
    "print(fx_max)\n",
    "print(fx_min)\n",
    "\n",
    "fx_mean = fx_sum/n\n",
    "colormap = []\n",
    "for i in range (0,n):\n",
    "    colormap.append((G.fx[i]-fx_min)/fx_max)\n",
    "colormap"
   ]
  },
  {
   "cell_type": "code",
   "execution_count": 145,
   "metadata": {},
   "outputs": [
    {
     "name": "stdout",
     "output_type": "stream",
     "text": [
      "0 1 0\n"
     ]
    }
   ],
   "source": [
    "i = 0\n",
    "edge_list = list(G.edges)\n",
    "x = edge_list[i][0]\n",
    "y = edge_list[i][1]\n",
    "count = edge_list[i][2]\n",
    "x_pos = G.pos[x]\n",
    "y_pos = G.pos[y]\n",
    "print(x, y, count)"
   ]
  },
  {
   "cell_type": "code",
   "execution_count": 191,
   "metadata": {},
   "outputs": [],
   "source": [
    "def recta(x1, y1, x2, y2):\n",
    "    a =  (x1 - x2)/ (y1 - y2)\n",
    "    print(a)\n",
    "    b = x1 - a * y1\n",
    "    print(b)\n",
    "    return (a, b)\n",
    "\n",
    "def curva_b(pt0[0], pt0[1], mid[0], mid[1], pt1[0], pt1[1]):\n",
    "    (x1, y1, x2, y2) = (pt0[0], pt0[1], mid[0], mid[1])\n",
    "    (a1, b1) = recta(pt0[0], pt0[1], mid[0], mid[1])\n",
    "    (a2, b2) = recta(mid[0], mid[1], pt1[0], pt1[1])\n",
    "    puntos = []\n",
    "\n",
    "    for i in range(0, 1000):\n",
    "        if x1 == x2:\n",
    "            continue\n",
    "        else:\n",
    "            (a, b) = recta(x1, y1, x2, y2)\n",
    "        x = i*(x2 - x1)/1000 + x1\n",
    "        y = a*x + b\n",
    "        puntos.append((x,y))\n",
    "        x1 += (mid[0] - pt0[0])/1000\n",
    "        y1 = a1*x1 + b1\n",
    "        x2 += (pt1[0] - mid[0])/1000\n",
    "        y2 = a2*x2 + b2\n",
    "    return puntos"
   ]
  },
  {
   "cell_type": "code",
   "execution_count": 194,
   "metadata": {},
   "outputs": [
    {
     "data": {
      "text/plain": [
       "[<matplotlib.lines.Line2D at 0x7f9b022c1220>]"
      ]
     },
     "execution_count": 194,
     "metadata": {},
     "output_type": "execute_result"
    },
    {
     "data": {
      "image/png": "[encoded data removed]",
      "text/plain": [
       "<Figure size 432x288 with 1 Axes>"
      ]
     },
     "metadata": {
      "needs_background": "light"
     },
     "output_type": "display_data"
    }
   ],
   "source": [
    "import numpy as np\n",
    "x = np.linspace(-2*np.pi, 2*np.pi, 100)\n",
    "y = 2*np.cosh(x/2)\n",
    "plt.plot(x, y)"
   ]
  },
  {
   "cell_type": "code",
   "execution_count": 198,
   "metadata": {},
   "outputs": [
    {
     "data": {
      "text/plain": [
       "array([0.5       , 0.51020408, 0.52040816, 0.53061224, 0.54081633,\n",
       "       0.55102041, 0.56122449, 0.57142857, 0.58163265, 0.59183673,\n",
       "       0.60204082, 0.6122449 , 0.62244898, 0.63265306, 0.64285714,\n",
       "       0.65306122, 0.66326531, 0.67346939, 0.68367347, 0.69387755,\n",
       "       0.70408163, 0.71428571, 0.7244898 , 0.73469388, 0.74489796,\n",
       "       0.75510204, 0.76530612, 0.7755102 , 0.78571429, 0.79591837,\n",
       "       0.80612245, 0.81632653, 0.82653061, 0.83673469, 0.84693878,\n",
       "       0.85714286, 0.86734694, 0.87755102, 0.8877551 , 0.89795918,\n",
       "       0.90816327, 0.91836735, 0.92857143, 0.93877551, 0.94897959,\n",
       "       0.95918367, 0.96938776, 0.97959184, 0.98979592, 1.        ])"
      ]
     },
     "execution_count": 198,
     "metadata": {},
     "output_type": "execute_result"
    }
   ],
   "source": [
    "xline0 = np.linspace(1,.5, 50)\n",
    "xline1 = np.linspace(.5, 1, 50)"
   ]
  },
  {
   "cell_type": "code",
   "execution_count": 195,
   "metadata": {},
   "outputs": [
    {
     "data": {
      "text/plain": [
       "array([-6.28318531, -6.15625227, -6.02931923, -5.9023862 , -5.77545316,\n",
       "       -5.64852012, -5.52158709, -5.39465405, -5.26772102, -5.14078798,\n",
       "       -5.01385494, -4.88692191, -4.75998887, -4.63305583, -4.5061228 ,\n",
       "       -4.37918976, -4.25225672, -4.12532369, -3.99839065, -3.87145761,\n",
       "       -3.74452458, -3.61759154, -3.4906585 , -3.36372547, -3.23679243,\n",
       "       -3.10985939, -2.98292636, -2.85599332, -2.72906028, -2.60212725,\n",
       "       -2.47519421, -2.34826118, -2.22132814, -2.0943951 , -1.96746207,\n",
       "       -1.84052903, -1.71359599, -1.58666296, -1.45972992, -1.33279688,\n",
       "       -1.20586385, -1.07893081, -0.95199777, -0.82506474, -0.6981317 ,\n",
       "       -0.57119866, -0.44426563, -0.31733259, -0.19039955, -0.06346652,\n",
       "        0.06346652,  0.19039955,  0.31733259,  0.44426563,  0.57119866,\n",
       "        0.6981317 ,  0.82506474,  0.95199777,  1.07893081,  1.20586385,\n",
       "        1.33279688,  1.45972992,  1.58666296,  1.71359599,  1.84052903,\n",
       "        1.96746207,  2.0943951 ,  2.22132814,  2.34826118,  2.47519421,\n",
       "        2.60212725,  2.72906028,  2.85599332,  2.98292636,  3.10985939,\n",
       "        3.23679243,  3.36372547,  3.4906585 ,  3.61759154,  3.74452458,\n",
       "        3.87145761,  3.99839065,  4.12532369,  4.25225672,  4.37918976,\n",
       "        4.5061228 ,  4.63305583,  4.75998887,  4.88692191,  5.01385494,\n",
       "        5.14078798,  5.26772102,  5.39465405,  5.52158709,  5.64852012,\n",
       "        5.77545316,  5.9023862 ,  6.02931923,  6.15625227,  6.28318531])"
      ]
     },
     "execution_count": 195,
     "metadata": {},
     "output_type": "execute_result"
    }
   ],
   "source": [
    "x"
   ]
  },
  {
   "cell_type": "code",
   "execution_count": 217,
   "metadata": {},
   "outputs": [
    {
     "data": {
      "text/plain": [
       "[<matplotlib.lines.Line2D at 0x7f9af0e98af0>]"
      ]
     },
     "execution_count": 217,
     "metadata": {},
     "output_type": "execute_result"
    },
    {
     "data": {
      "image/png": "[encoded data removed]",
      "text/plain": [
       "<Figure size 432x288 with 1 Axes>"
      ]
     },
     "metadata": {
      "needs_background": "light"
     },
     "output_type": "display_data"
    }
   ],
   "source": [
    "x0 = 1\n",
    "x1 = 1\n",
    "xmid = (x0+x1)/2\n",
    "xm = 1 - .5*xmid\n",
    "y0 = 1\n",
    "y1 = 2\n",
    "ym = (y0+y1)/2\n",
    "xseg0 = np.linspace(x0, xm, 50)\n",
    "xseg1 = np.linspace(xm, x1, 50)\n",
    "xseg = np.hstack((xseg0, xseg1))\n",
    "yseg = np.linspace(y0,y1, 100)\n",
    "plt.plot(xseg, yseg)"
   ]
  },
  {
   "cell_type": "code",
   "execution_count": 209,
   "metadata": {},
   "outputs": [
    {
     "data": {
      "text/plain": [
       "numpy.ndarray"
      ]
     },
     "execution_count": 209,
     "metadata": {},
     "output_type": "execute_result"
    }
   ],
   "source": [
    "yseg = np.linspace(y0,y1,100)\n",
    "type(xseg0)"
   ]
  },
  {
   "cell_type": "code",
   "execution_count": 250,
   "metadata": {},
   "outputs": [
    {
     "data": {
      "text/plain": [
       "1.5"
      ]
     },
     "execution_count": 250,
     "metadata": {},
     "output_type": "execute_result"
    }
   ],
   "source": [
    "x0 = 1\n",
    "x1 = 1\n",
    "xmid = (x0+x1)/2\n",
    "xm = 1 + .25*xmid\n",
    "y0 = 1\n",
    "y1 = 2\n",
    "ym = (y0+y1)/2\n",
    "ym"
   ]
  },
  {
   "cell_type": "code",
   "execution_count": 265,
   "metadata": {},
   "outputs": [
    {
     "data": {
      "text/plain": [
       "[<matplotlib.lines.Line2D at 0x7f9af17fd1c0>]"
      ]
     },
     "execution_count": 265,
     "metadata": {},
     "output_type": "execute_result"
    },
    {
     "data": {
      "image/png": "[encoded data removed]",
      "text/plain": [
       "<Figure size 432x288 with 1 Axes>"
      ]
     },
     "metadata": {
      "needs_background": "light"
     },
     "output_type": "display_data"
    }
   ],
   "source": [
    "import matplotlib.pyplot as plt\n",
    "import matplotlib as mpl\n",
    "viridis = mpl.colormaps['viridis'].resampled(16)\n",
    "fig, ax = plt.subplots()\n",
    "\n",
    "edge_list = list(G.edges)\n",
    "for i in range(0, len(G.edges)):\n",
    "    node0 = edge_list[i][0]\n",
    "    node1 = edge_list[i][1]\n",
    "    count = edge_list[i][2]\n",
    "    x_pos = (G.pos[node0][0], G.pos[node1][0])\n",
    "    y_pos = (G.pos[node0][1], G.pos[node1][1])\n",
    "    ax.plot(x_pos, y_pos, color='grey')\n",
    "\n",
    "for i in range(0, len(G.nodes)):\n",
    "    ax.scatter(G.pos[i][0], G.pos[i][1], s = 250, color = viridis(colormap[i]))\n",
    "\n",
    "lista = curva_b(y0, x0, ym, xm, y1, x1)\n",
    "t = np.array(lista)\n",
    "plt.plot(t[:,1], t[:,0], color='grey')\n",
    "\n",
    "\n",
    "\n",
    "\n"
   ]
  },
  {
   "cell_type": "code",
   "execution_count": 307,
   "metadata": {},
   "outputs": [],
   "source": [
    "def reeb_plot(R):\n",
    "    import matplotlib.pyplot as plt\n",
    "    import matplotlib as mpl\n",
    "    viridis = mpl.colormaps['viridis'].resampled(16)\n",
    "    fig, ax = plt.subplots()\n",
    "\n",
    "    n = len(R.nodes)\n",
    "    fx_sum = 0\n",
    "    fx_max = 0\n",
    "    fx_min = 0\n",
    "    for i in range(0, n):\n",
    "        fx_sum += R.fx[i]\n",
    "        fx_max = max(fx_max, R.fx[i])\n",
    "        fx_min = min(fx_min, R.fx[i])\n",
    "\n",
    "    fx_mean = fx_sum/n\n",
    "    colormap = []\n",
    "    for i in range (0,n):\n",
    "        colormap.append((R.fx[i]-fx_min)/fx_max)\n",
    "\n",
    "\n",
    "    edge_list = list(R.edges)\n",
    "    for i in range(0, len(R.edges)):\n",
    "        node0 = edge_list[i][0]\n",
    "        node1 = edge_list[i][1]\n",
    "        x_pos = (R.pos[node0][0], R.pos[node1][0])\n",
    "        y_pos = (R.pos[node0][1], R.pos[node1][1])\n",
    "        ax.plot(x_pos, y_pos, color='grey')\n",
    "\n",
    "    for i in range(0, len(R.nodes)):\n",
    "        ax.scatter(R.pos[i][0], R.pos[i][1], s = 250, color = viridis(colormap[i]))"
   ]
  },
  {
   "cell_type": "code",
   "execution_count": 304,
   "metadata": {},
   "outputs": [
    {
     "data": {
      "text/plain": [
       "8"
      ]
     },
     "execution_count": 304,
     "metadata": {},
     "output_type": "execute_result"
    }
   ],
   "source": [
    "len(rf.nodes)"
   ]
  },
  {
   "cell_type": "code",
   "execution_count": 300,
   "metadata": {},
   "outputs": [
    {
     "ename": "IndexError",
     "evalue": "list index out of range",
     "output_type": "error",
     "traceback": [
      "\u001b[0;31m---------------------------------------------------------------------------\u001b[0m",
      "\u001b[0;31mIndexError\u001b[0m                                Traceback (most recent call last)",
      "\u001b[0;32m<ipython-input-300-32b0ccdd1153>\u001b[0m in \u001b[0;36m<module>\u001b[0;34m\u001b[0m\n\u001b[1;32m      1\u001b[0m \u001b[0mplt\u001b[0m\u001b[0;34m.\u001b[0m\u001b[0mscatter\u001b[0m\u001b[0;34m(\u001b[0m\u001b[0mrf\u001b[0m\u001b[0;34m.\u001b[0m\u001b[0mpos\u001b[0m\u001b[0;34m[\u001b[0m\u001b[0;36m6\u001b[0m\u001b[0;34m]\u001b[0m\u001b[0;34m[\u001b[0m\u001b[0;36m0\u001b[0m\u001b[0;34m]\u001b[0m\u001b[0;34m,\u001b[0m \u001b[0mrf\u001b[0m\u001b[0;34m.\u001b[0m\u001b[0mpos\u001b[0m\u001b[0;34m[\u001b[0m\u001b[0;36m6\u001b[0m\u001b[0;34m]\u001b[0m\u001b[0;34m[\u001b[0m\u001b[0;36m1\u001b[0m\u001b[0;34m]\u001b[0m\u001b[0;34m)\u001b[0m\u001b[0;34m\u001b[0m\u001b[0;34m\u001b[0m\u001b[0m\n\u001b[0;32m----> 2\u001b[0;31m \u001b[0mviridis\u001b[0m\u001b[0;34m(\u001b[0m\u001b[0mcolormap\u001b[0m\u001b[0;34m[\u001b[0m\u001b[0;36m6\u001b[0m\u001b[0;34m]\u001b[0m\u001b[0;34m)\u001b[0m\u001b[0;34m\u001b[0m\u001b[0;34m\u001b[0m\u001b[0m\n\u001b[0m",
      "\u001b[0;31mIndexError\u001b[0m: list index out of range"
     ]
    },
    {
     "data": {
      "image/png": "[encoded data removed]",
      "text/plain": [
       "<Figure size 432x288 with 1 Axes>"
      ]
     },
     "metadata": {
      "needs_background": "light"
     },
     "output_type": "display_data"
    }
   ],
   "source": [
    "plt.scatter(rf.pos[6][0], rf.pos[6][1])\n",
    "viridis(colormap[6])"
   ]
  },
  {
   "cell_type": "code",
   "execution_count": 308,
   "metadata": {},
   "outputs": [
    {
     "data": {
      "image/png": "[encoded data removed]",
      "text/plain": [
       "<Figure size 432x288 with 1 Axes>"
      ]
     },
     "metadata": {
      "needs_background": "light"
     },
     "output_type": "display_data"
    }
   ],
   "source": [
    "reeb_plot(rf)"
   ]
  },
  {
   "cell_type": "code",
   "execution_count": 252,
   "metadata": {},
   "outputs": [
    {
     "data": {
      "text/plain": [
       "[(0, 1, 0),\n",
       " (0, 1, 1),\n",
       " (0, 1, 2),\n",
       " (0, 0, 0),\n",
       " (1, 2, 0),\n",
       " (1, 3, 0),\n",
       " (2, 4, 0),\n",
       " (3, 4, 0),\n",
       " (4, 5, 0)]"
      ]
     },
     "execution_count": 252,
     "metadata": {},
     "output_type": "execute_result"
    }
   ],
   "source": [
    "edge_list"
   ]
  },
  {
   "cell_type": "code",
   "execution_count": 244,
   "metadata": {},
   "outputs": [
    {
     "data": {
      "text/plain": [
       "[<matplotlib.lines.Line2D at 0x7f9ae0d00820>]"
      ]
     },
     "execution_count": 244,
     "metadata": {},
     "output_type": "execute_result"
    },
    {
     "data": {
      "image/png": "[encoded data removed]",
      "text/plain": [
       "<Figure size 432x288 with 1 Axes>"
      ]
     },
     "metadata": {
      "needs_background": "light"
     },
     "output_type": "display_data"
    }
   ],
   "source": [
    "t = np.array(lista)\n",
    "plt.plot(t[:,1], t[:,0], color='grey')"
   ]
  },
  {
   "cell_type": "code",
   "execution_count": 166,
   "metadata": {},
   "outputs": [
    {
     "name": "stdout",
     "output_type": "stream",
     "text": [
      "(1, 0.5) (2, 3)\n"
     ]
    },
    {
     "data": {
      "text/plain": [
       "[<matplotlib.lines.Line2D at 0x7f9b11ff9520>]"
      ]
     },
     "execution_count": 166,
     "metadata": {},
     "output_type": "execute_result"
    },
    {
     "data": {
      "image/png": "[encoded data removed]",
      "text/plain": [
       "<Figure size 432x288 with 1 Axes>"
      ]
     },
     "metadata": {
      "needs_background": "light"
     },
     "output_type": "display_data"
    }
   ],
   "source": [
    "import matplotlib.pyplot as plt\n",
    "import matplotlib as mpl\n",
    "viridis = mpl.colormaps['viridis'].resampled(16)\n",
    "fig, ax = plt.subplots()\n",
    "\n",
    "for i in range(0, len(G.nodes)):\n",
    "    ax.scatter(G.pos[i][0], G.pos[i][1], s = 250, color = viridis(colormap[i]))\n",
    "\n",
    "i = 4\n",
    "edge_list = list(G.edges)\n",
    "node0 = edge_list[i][0]\n",
    "node1 = edge_list[i][1]\n",
    "count = edge_list[i][2]\n",
    "x_pos = (G.pos[node0][0], G.pos[node1][0])\n",
    "y_pos = (G.pos[node0][1], G.pos[node1][1])\n",
    "ax.plot(x_pos, y_pos, color='black')\n",
    "\n",
    "\n"
   ]
  },
  {
   "cell_type": "code",
   "execution_count": null,
   "metadata": {},
   "outputs": [],
   "source": [
    "for i in range(0, len(G.edges)):\n",
    "    x_lookup = "
   ]
  },
  {
   "cell_type": "code",
   "execution_count": 263,
   "metadata": {},
   "outputs": [],
   "source": [
    "def slope_intercept(pt0, pt1):\n",
    "    m = (pt0[1] - pt1[1]) / (pt0[0] - pt1[0])\n",
    "    b = pt0[1] - m * pt0[0]\n",
    "    return (m, b)"
   ]
  },
  {
   "cell_type": "code",
   "execution_count": 272,
   "metadata": {},
   "outputs": [],
   "source": [
    "def slope_intercept(pt0, pt1):\n",
    "    m = (pt0[1] - pt1[1]) / (pt0[0] - pt1[0])\n",
    "    b = pt0[1] - m * pt0[0]\n",
    "    return (m, b)\n",
    "\n",
    "def bezier_curve(pt0, midpt, pt1):\n",
    "    (x1, y1, x2, y2) = (pt0[0], pt0[1], midpt[0], midpt[1])\n",
    "    (a1, b1) = slope_intercept(pt0, midpt)\n",
    "    (a2, b2) = slope_intercept(midpt, pt1)\n",
    "    points = []\n",
    "\n",
    "    for i in range(0, 100):\n",
    "        if x1 == x2:\n",
    "            continue\n",
    "        else:\n",
    "            (a, b) = slope_intercept((x1,y1), (x2,y2))\n",
    "        x = i*(x2 - x1)/100 + x1\n",
    "        y = a*x + b\n",
    "        points.append((x,y))\n",
    "        x1 += (midpt[0] - pt0[0])/100\n",
    "        y1 = a1*x1 + b1\n",
    "        x2 += (pt1[0] - midpt[0])/100\n",
    "        y2 = a2*x2 + b2\n",
    "    return points"
   ]
  },
  {
   "cell_type": "code",
   "execution_count": 259,
   "metadata": {},
   "outputs": [
    {
     "data": {
      "text/plain": [
       "(-0.0, 1.0)"
      ]
     },
     "execution_count": 259,
     "metadata": {},
     "output_type": "execute_result"
    }
   ],
   "source": [
    "recta(1, 1, 2, 1)\n"
   ]
  },
  {
   "cell_type": "code",
   "execution_count": 261,
   "metadata": {},
   "outputs": [
    {
     "data": {
      "text/plain": [
       "(-0.0, 1.0)"
      ]
     },
     "execution_count": 261,
     "metadata": {},
     "output_type": "execute_result"
    }
   ],
   "source": [
    "slope_intercept((1,1), (2,1))"
   ]
  },
  {
   "cell_type": "code",
   "execution_count": 279,
   "metadata": {},
   "outputs": [
    {
     "data": {
      "text/plain": [
       "[<matplotlib.lines.Line2D at 0x7f9ae0ed4eb0>]"
      ]
     },
     "execution_count": 279,
     "metadata": {},
     "output_type": "execute_result"
    },
    {
     "data": {
      "image/png": "[encoded data removed]",
      "text/plain": [
       "<Figure size 432x288 with 1 Axes>"
      ]
     },
     "metadata": {
      "needs_background": "light"
     },
     "output_type": "display_data"
    }
   ],
   "source": [
    "test = bezier_curve((1,1), (1.5, 0), (2,1))\n",
    "t = np.array(test)\n",
    "plt.plot(t[:,0], t[:,1])"
   ]
  },
  {
   "cell_type": "code",
   "execution_count": 277,
   "metadata": {},
   "outputs": [
    {
     "data": {
      "text/plain": [
       "[<matplotlib.lines.Line2D at 0x7f9ae0d32bb0>,\n",
       " <matplotlib.lines.Line2D at 0x7f9ae0d32c10>]"
      ]
     },
     "execution_count": 277,
     "metadata": {},
     "output_type": "execute_result"
    },
    {
     "data": {
      "image/png": "[encoded data removed]",
      "text/plain": [
       "<Figure size 432x288 with 1 Axes>"
      ]
     },
     "metadata": {
      "needs_background": "light"
     },
     "output_type": "display_data"
    }
   ],
   "source": [
    "plt.plot(np.array(test))"
   ]
  }
 ],
 "metadata": {
  "kernelspec": {
   "display_name": "venv",
   "language": "python",
   "name": "venv"
  },
  "language_info": {
   "codemirror_mode": {
    "name": "ipython",
    "version": 3
   },
   "file_extension": ".py",
   "mimetype": "text/x-python",
   "name": "python",
   "nbconvert_exporter": "python",
   "pygments_lexer": "ipython3",
   "version": "3.8.8"
  },
  "vscode": {
   "interpreter": {
    "hash": "896ededc2562ed8c34e5f157358d1476f927df153b7f438b06ab6650204bd22f"
   }
  }
 },
 "nbformat": 4,
 "nbformat_minor": 4
}
