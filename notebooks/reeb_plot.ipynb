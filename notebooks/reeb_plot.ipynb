{
 "cells": [
  {
   "cell_type": "code",
   "execution_count": 1,
   "metadata": {},
   "outputs": [
    {
     "name": "stdout",
     "output_type": "stream",
     "text": [
      "/Users/daniellebarnes/development/ceREEBerus\n"
     ]
    }
   ],
   "source": [
    "cd ..\n"
   ]
  },
  {
   "cell_type": "code",
   "execution_count": 2,
   "metadata": {},
   "outputs": [
    {
     "name": "stdout",
     "output_type": "stream",
     "text": [
      "Processing /Users/daniellebarnes/development/ceREEBerus\n",
      "  Installing build dependencies ... \u001b[?25ldone\n",
      "\u001b[?25h  Getting requirements to build wheel ... \u001b[?25ldone\n",
      "\u001b[?25h    Preparing wheel metadata ... \u001b[?25ldone\n",
      "\u001b[?25hRequirement already satisfied: matplotlib in ./venv/lib/python3.8/site-packages (from cereeberus==0.0.5) (3.6.2)\n",
      "Requirement already satisfied: scipy in ./venv/lib/python3.8/site-packages (from cereeberus==0.0.5) (1.9.3)\n",
      "Requirement already satisfied: numpy in ./venv/lib/python3.8/site-packages (from cereeberus==0.0.5) (1.23.4)\n",
      "Requirement already satisfied: networkx in ./venv/lib/python3.8/site-packages (from cereeberus==0.0.5) (2.8.8)\n",
      "Requirement already satisfied: contourpy>=1.0.1 in ./venv/lib/python3.8/site-packages (from matplotlib->cereeberus==0.0.5) (1.0.6)\n",
      "Requirement already satisfied: pillow>=6.2.0 in ./venv/lib/python3.8/site-packages (from matplotlib->cereeberus==0.0.5) (9.3.0)\n",
      "Requirement already satisfied: cycler>=0.10 in ./venv/lib/python3.8/site-packages (from matplotlib->cereeberus==0.0.5) (0.11.0)\n",
      "Requirement already satisfied: packaging>=20.0 in ./venv/lib/python3.8/site-packages (from matplotlib->cereeberus==0.0.5) (21.3)\n",
      "Requirement already satisfied: fonttools>=4.22.0 in ./venv/lib/python3.8/site-packages (from matplotlib->cereeberus==0.0.5) (4.38.0)\n",
      "Requirement already satisfied: pyparsing>=2.2.1 in ./venv/lib/python3.8/site-packages (from matplotlib->cereeberus==0.0.5) (3.0.9)\n",
      "Requirement already satisfied: python-dateutil>=2.7 in ./venv/lib/python3.8/site-packages (from matplotlib->cereeberus==0.0.5) (2.8.2)\n",
      "Requirement already satisfied: kiwisolver>=1.0.1 in ./venv/lib/python3.8/site-packages (from matplotlib->cereeberus==0.0.5) (1.4.4)\n",
      "Requirement already satisfied: six>=1.5 in ./venv/lib/python3.8/site-packages (from python-dateutil>=2.7->matplotlib->cereeberus==0.0.5) (1.16.0)\n",
      "Building wheels for collected packages: cereeberus\n",
      "  Building wheel for cereeberus (PEP 517) ... \u001b[?25ldone\n",
      "\u001b[?25h  Created wheel for cereeberus: filename=cereeberus-0.0.5-py3-none-any.whl size=17047 sha256=660491d719350bb246a521209feca6e07f420fbc47dfa4a9817b2dd73829e5a5\n",
      "  Stored in directory: /private/var/folders/p6/pn26dbmx4jj67d6nh7m6557h0000gn/T/pip-ephem-wheel-cache-4frrjxtn/wheels/ba/0b/08/8340df22f780a7a3281c7f7e134235d0cced784225c7bf2d6f\n",
      "Successfully built cereeberus\n",
      "Installing collected packages: cereeberus\n",
      "  Attempting uninstall: cereeberus\n",
      "    Found existing installation: cereeberus 0.0.5\n",
      "    Uninstalling cereeberus-0.0.5:\n",
      "      Successfully uninstalled cereeberus-0.0.5\n",
      "Successfully installed cereeberus-0.0.5\n",
      "\u001b[33mWARNING: You are using pip version 20.2.3; however, version 22.3.1 is available.\n",
      "You should consider upgrading via the '/Users/daniellebarnes/development/ceREEBerus/venv/bin/python -m pip install --upgrade pip' command.\u001b[0m\n",
      "Note: you may need to restart the kernel to use updated packages.\n"
     ]
    }
   ],
   "source": [
    "pip install ."
   ]
  },
  {
   "cell_type": "code",
   "execution_count": 3,
   "metadata": {},
   "outputs": [],
   "source": [
    "# Basic imports \n",
    "import networkx as nx"
   ]
  },
  {
   "cell_type": "markdown",
   "metadata": {},
   "source": [
    "# Examples of Reeb graphs\n",
    "\n",
    "In the following notebook, we show examples of Reeb graphs that are included in the package which show functionality related to the main class. All Reeb graphs are stored as the class `cereberus.reeb.Reeb`."
   ]
  },
  {
   "cell_type": "code",
   "execution_count": 4,
   "metadata": {},
   "outputs": [],
   "source": [
    "from cereeberus.reeb import Reeb\n",
    "from cereeberus.data import graphs"
   ]
  },
  {
   "cell_type": "code",
   "execution_count": 5,
   "metadata": {},
   "outputs": [
    {
     "name": "stderr",
     "output_type": "stream",
     "text": [
      "/Users/daniellebarnes/development/ceREEBerus/cereeberus/reeb.py:39: FutureWarning: adjacency_matrix will return a scipy.sparse array instead of a matrix in Networkx 3.0.\n",
      "  self.adjacency = nx.adjacency_matrix(G)\n"
     ]
    },
    {
     "data": {
      "text/plain": [
       "<cereeberus.reeb.Reeb at 0x7feb70913670>"
      ]
     },
     "execution_count": 5,
     "metadata": {},
     "output_type": "execute_result"
    }
   ],
   "source": [
    "reeb_torus = graphs.reeb_torus()\n",
    "reeb_torus"
   ]
  },
  {
   "cell_type": "markdown",
   "metadata": {},
   "source": [
    "The Reeb Graph class has many attributes available such as nodes, edges, position, up degree, down degree, and function values provided at class instantiation"
   ]
  },
  {
   "cell_type": "code",
   "execution_count": 6,
   "metadata": {},
   "outputs": [
    {
     "name": "stdout",
     "output_type": "stream",
     "text": [
      "Reeb Graph nodes:  [0, 1, 2, 3, 4, 5]\n",
      "Reeb Graph edges:  [(0, 1, 0), (1, 2, 0), (1, 3, 0), (2, 4, 0), (3, 4, 0), (4, 5, 0)]\n",
      "Reeb Graph function values:  {0: 1, 1: 2, 2: 3, 3: 3, 4: 4, 5: 5}\n",
      "Reeb Graph up degree:  {0: 1, 1: 2, 2: 1, 3: 1, 4: 1, 5: 0}\n",
      "Reeb Graph down degree:  {0: 0, 1: 1, 2: 1, 3: 1, 4: 2, 5: 1}\n",
      "Reeb Graph Adjacency Matrix:   (0, 1)\t1\n",
      "  (1, 0)\t1\n",
      "  (1, 2)\t1\n",
      "  (1, 3)\t1\n",
      "  (2, 1)\t1\n",
      "  (2, 4)\t1\n",
      "  (3, 1)\t1\n",
      "  (3, 4)\t1\n",
      "  (4, 2)\t1\n",
      "  (4, 3)\t1\n",
      "  (4, 5)\t1\n",
      "  (5, 4)\t1\n",
      "Reeb Graph Plotting Positions: {0: (1.0, 1), 1: (0.46081694138723917, 2), 2: (0.09558525499351389, 3), 3: (-0.09341946752952307, 3), 4: (-0.4630595140749256, 4), 5: (-0.9999232147763046, 5)}\n"
     ]
    },
    {
     "data": {
      "text/plain": [
       "{'nodes': 6, 'edges': 6}"
      ]
     },
     "execution_count": 6,
     "metadata": {},
     "output_type": "execute_result"
    }
   ],
   "source": [
    "print(\"Reeb Graph nodes: \", reeb_torus.nodes)\n",
    "print(\"Reeb Graph edges: \", reeb_torus.edges)\n",
    "print(\"Reeb Graph function values: \", reeb_torus.fx)\n",
    "print(\"Reeb Graph up degree: \", reeb_torus.up_deg)\n",
    "print(\"Reeb Graph down degree: \", reeb_torus.down_deg)\n",
    "print(\"Reeb Graph Adjacency Matrix:\", reeb_torus.adjacency)\n",
    "print(\"Reeb Graph Plotting Positions:\", reeb_torus.pos_fx)\n",
    "reeb_torus.summary"
   ]
  },
  {
   "cell_type": "markdown",
   "metadata": {},
   "source": [
    "There is also a custom plot function to plot Reeb Graphs which can be called with `plot_reeb`."
   ]
  },
  {
   "cell_type": "code",
   "execution_count": 7,
   "metadata": {},
   "outputs": [
    {
     "data": {
      "image/png": "[encoded data removed]",
      "text/plain": [
       "<Figure size 432x288 with 1 Axes>"
      ]
     },
     "metadata": {
      "needs_background": "light"
     },
     "output_type": "display_data"
    }
   ],
   "source": [
    "Reeb.plot_reeb(reeb_torus)"
   ]
  },
  {
   "cell_type": "markdown",
   "metadata": {},
   "source": [
    "There are also some other graphs, such as the dancing man"
   ]
  },
  {
   "cell_type": "code",
   "execution_count": 8,
   "metadata": {},
   "outputs": [
    {
     "name": "stderr",
     "output_type": "stream",
     "text": [
      "/Users/daniellebarnes/development/ceREEBerus/cereeberus/reeb.py:39: FutureWarning: adjacency_matrix will return a scipy.sparse array instead of a matrix in Networkx 3.0.\n",
      "  self.adjacency = nx.adjacency_matrix(G)\n"
     ]
    },
    {
     "data": {
      "image/png": "[encoded data removed]",
      "text/plain": [
       "<Figure size 432x288 with 1 Axes>"
      ]
     },
     "metadata": {
      "needs_background": "light"
     },
     "output_type": "display_data"
    }
   ],
   "source": [
    "dm = graphs.reeb_dancing_man()\n",
    "Reeb.plot_reeb(dm)"
   ]
  },
  {
   "cell_type": "markdown",
   "metadata": {},
   "source": [
    "The next is an illustration of how loops are handled in the `plot_reeb()` function"
   ]
  },
  {
   "cell_type": "code",
   "execution_count": 15,
   "metadata": {},
   "outputs": [
    {
     "data": {
      "image/png": "[encoded data removed]",
      "text/plain": [
       "<Figure size 432x288 with 1 Axes>"
      ]
     },
     "metadata": {
      "needs_background": "light"
     },
     "output_type": "display_data"
    }
   ],
   "source": [
    "sl = graphs.reeb_simple_loops()\n",
    "Reeb.plot_reeb(sl)"
   ]
  }
 ],
 "metadata": {
  "kernelspec": {
   "display_name": "Python 3.8.8 ('venv': venv)",
   "language": "python",
   "name": "python3"
  },
  "language_info": {
   "codemirror_mode": {
    "name": "ipython",
    "version": 3
   },
   "file_extension": ".py",
   "mimetype": "text/x-python",
   "name": "python",
   "nbconvert_exporter": "python",
   "pygments_lexer": "ipython3",
   "version": "3.8.8"
  },
  "vscode": {
   "interpreter": {
    "hash": "896ededc2562ed8c34e5f157358d1476f927df153b7f438b06ab6650204bd22f"
   }
  }
 },
 "nbformat": 4,
 "nbformat_minor": 4
}
