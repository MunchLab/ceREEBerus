{
 "cells": [
  {
   "cell_type": "markdown",
   "metadata": {},
   "source": [
    "# Let's write all the linear constraints for every diagram. We use the diagram list from Liz."
   ]
  },
  {
   "cell_type": "markdown",
   "metadata": {},
   "source": [
    " <span style=\"color:maroon\"> Note: Initially, we write down the cosntrainst for the large matrices without using the block structure. Later, we can speed up the computation by using the block structure. Only thing that will change is, we will split the first two diagrams into 4 to accomodate the boundary matrix.</span>"
   ]
  },
  {
   "cell_type": "markdown",
   "metadata": {},
   "source": [
    "## Diagram 1"
   ]
  },
  {
   "cell_type": "markdown",
   "metadata": {},
   "source": [
    "![image](/Users/ishikaghosh/Library/CloudStorage/OneDrive-MichiganStateUniversity/Documents/Research/Projects/Interleaving_to_ML/ceREEBerus/doc_source/images/diagram_pictures/Diagram_1.png)"
   ]
  },
  {
   "cell_type": "markdown",
   "metadata": {},
   "source": [
    "Precomputed matrices:\n",
    "- $D_{G^n}^V := [d^n_{g_{ij}}]$ \n",
    "    - Distance matrix.\n",
    "    - Block structure. \n",
    "    - All the entries are non-negative.\n",
    "    - <span style=\"color:red\"> It is a square matrix. </span>\n",
    "- $ B_F := [b_{f_{ij}}]$\n",
    "    - Boundary Matrix. \n",
    "    - All the entries are binary.\n",
    "    - Columns should add up to 2.\n",
    "    - Usually it doesn't have the block structure, however, we can split it into `up` and `down` boundary matrices to make it block structured.\n",
    "- $B_{G^n}^V := [b^n_{g_{ij}}]$\n",
    "    - Boundary Matrix. \n",
    "    - All the entries are binary.\n",
    "    - Columns should add up to 2.\n",
    "    - Usually it doesn't have the block structure, however, we can split it into `up` and `down` boundary matrices to make it block structured.\n"
   ]
  },
  {
   "cell_type": "markdown",
   "metadata": {},
   "source": [
    "Matrix Variables:\n",
    "- $\\varPhi_V := [\\varphi_{v_{ij}}]$\n",
    "    - assignment from $F$ to $G^n$ on vertices.\n",
    "    - Block structure. \n",
    "    - All the entries are binary.\n",
    "    - Columns should add up to 1.\n",
    "- $\\varPhi_E := [\\varphi_{e_{ij}}]$\n",
    "    - assignment from $F$ to $G^n$ on vertices.\n",
    "    - Block structure. \n",
    "    - All the entries are binary.\n",
    "    - Columns should add up to 1."
   ]
  },
  {
   "cell_type": "markdown",
   "metadata": {},
   "source": [
    "We need write down each element as the product and subtraction of matrices.\n",
    "\n",
    "Let $L := D_{G^n}^V * (\\varPhi_V * B_F - B_{G^n} * \\varPhi_E )$.\n",
    "\n",
    "* Index summary:\n",
    "    - $i: 1, 2, \\ldots, m$\n",
    "    - $j: 1, 2, \\ldots, n$\n",
    "    - $k: 1, 2, \\ldots, p$\n",
    "    - $l: 1, 2, \\ldots, o$\n",
    "    - $h: 1, 2, \\ldots, m$\n",
    "\n",
    "Then, we have:\n",
    "$ \\sum_{h=1}^m d^n_{g_{ih}} * (\\sum_{j=1}^n \\varphi_{v_{hj}} * b_{f_{jk}} - \\sum_{l=1}^o b^n_{g_{il}} * \\varphi_{e_{lk}}) $ for all $i = 1, 2, \\ldots, m$ and all  $k = 1, 2, \\dots, p$."
   ]
  },
  {
   "cell_type": "markdown",
   "metadata": {},
   "source": [
    "Let `m` be the maximum over all absolute valued entries in $L$.\n",
    "\n",
    "- Objective function: minimize $m$.\n"
   ]
  },
  {
   "cell_type": "markdown",
   "metadata": {},
   "source": [
    "- Subject to:\n",
    "    1. $ m \\geq \\sum_{h=1}^m d^n_{g_{ih}} * (\\sum_{j=1}^n \\varphi_{v_{hj}} * b_{f_{jk}} - \\sum_{l=1}^o b^n_{g_{il}} * \\varphi_{e_{lk}}) = 0$ for all $i = 1, 2, \\ldots, m$ and all  $k = 1, 2, \\dots, p$.<br><br>\n",
    "    2. $ -m \\leq \\sum_{h=1}^m d^n_{g_{ih}} * (\\sum_{j=1}^n \\varphi_{v_{hj}} * b_{f_{jk}} - \\sum_{l=1}^o b^n_{g_{il}} * \\varphi_{e_{lk}}) = 0$ for all $i = 1, 2, \\ldots, m$ and all  $k = 1, 2, \\dots, p$.<br><br>\n",
    "    3. $\\sum_{h=1}^m \\varphi_{v_{hj}} = 1$ for all $j = 1, 2, \\ldots, n$.<br><br>\n",
    "    4. $\\sum_{l=1}^o \\varphi_{e_{lk}} = 1$ for all $k = 1, 2, \\ldots, p$.<br><br>\n",
    "    5. $\\varphi_{V_{hj}} \\geq 0$  for all $h = 1, 2, \\ldots, m$ and all $j = 1, 2, \\ldots, n$.<br><br>\n",
    "    6. $\\varphi_{E_{lk}} \\geq 0$  for all $l = 1, 2, \\ldots, o$ and all $k = 1, 2, \\ldots, p$.<br><br>"
   ]
  },
  {
   "cell_type": "markdown",
   "metadata": {},
   "source": [
    "1 and 2 are the absolute value constraints. 3 and 4 makes sure that the columns add up to 1. 5 and 6 makes sure that the entries are non-negative."
   ]
  },
  {
   "cell_type": "markdown",
   "metadata": {},
   "source": [
    "## Diagram 2"
   ]
  },
  {
   "cell_type": "markdown",
   "metadata": {},
   "source": [
    "![image](/Users/ishikaghosh/Library/CloudStorage/OneDrive-MichiganStateUniversity/Documents/Research/Projects/Interleaving_to_ML/ceREEBerus/doc_source/images/diagram_pictures/Diagram_2.png)"
   ]
  },
  {
   "cell_type": "markdown",
   "metadata": {},
   "source": [
    "This one is almost identical to the previous one. We only write the ILP formulation."
   ]
  },
  {
   "cell_type": "markdown",
   "metadata": {},
   "source": [
    "Let $L := D_{F^n}^V * (\\Psi_V * B_G - B_{F^n} * \\Psi_E )$.\n",
    "\n",
    "* Index summary:\n",
    "    - $i: 1, 2, \\ldots, m$\n",
    "    - $j: 1, 2, \\ldots, n$\n",
    "    - $k: 1, 2, \\ldots, p$\n",
    "    - $l: 1, 2, \\ldots, o$\n",
    "    - $h: 1, 2, \\ldots, m$\n",
    "\n",
    "Then, we have:\n",
    "$ \\sum_{h=1}^m d^n_{f_{ih}} * (\\sum_{j=1}^n \\psi_{V_{hj}} * b_{g_{jk}} - \\sum_{l=1}^o b^n_{f_{il}} * \\psi_{E_{lk}}) $ for all $i = 1, 2, \\ldots, m$ and all  $k = 1, 2, \\dots, p$."
   ]
  },
  {
   "cell_type": "markdown",
   "metadata": {},
   "source": [
    "Let `m` be the maximum over all absolute valued entries in $L$.\n",
    "\n",
    "- Objective function: minimize $m$."
   ]
  },
  {
   "cell_type": "markdown",
   "metadata": {},
   "source": [
    "- Subject to:\n",
    "    1. $ m \\geq \\sum_{h=1}^m d^n_{f_{ih}} * (\\sum_{j=1}^n \\psi_{V_{hj}} * b_{g_{jk}} - \\sum_{l=1}^o b^n_{f_{il}} * \\psi_{E_{lk}}) = 0$ for all $i = 1, 2, \\ldots, m$ and all  $k = 1, 2, \\dots, p$.<br><br>\n",
    "    2. $ -m \\leq \\sum_{h=1}^m d^n_{f_{ih}} * (\\sum_{j=1}^n \\psi_{V_{hj}} * b_{g_{jk}} - \\sum_{l=1}^o b^n_{f_{il}} * \\psi_{E_{lk}}) = 0$ for all $i = 1, 2, \\ldots, m$ and all  $k = 1, 2, \\dots, p$.<br><br>\n",
    "    3. $\\sum_{h=1}^m \\psi_{V_{hj}} = 1$ for all $j = 1, 2, \\ldots, m$.<br><br>\n",
    "    4. $\\sum_{l=1}^o \\psi_{E_{lk}} = 1$ for all $k = 1, 2, \\ldots, p$.<br><br>\n",
    "    5. $\\psi_{V_{hj}} \\geq 0$  for all $h = 1, 2, \\ldots, m$ and all $j = 1, 2, \\ldots, n$.<br><br>\n",
    "    6. $\\psi_{E_{lk}} \\geq 0$  for all $l = 1, 2, \\ldots, o$ and all $k = 1, 2, \\ldots, p$.<br><br>"
   ]
  },
  {
   "cell_type": "markdown",
   "metadata": {},
   "source": [
    "## Diagram 3"
   ]
  },
  {
   "cell_type": "markdown",
   "metadata": {},
   "source": [
    "![image](/Users/ishikaghosh/Library/CloudStorage/OneDrive-MichiganStateUniversity/Documents/Research/Projects/Interleaving_to_ML/ceREEBerus/doc_source/images/diagram_pictures/Diagram_3.png)"
   ]
  },
  {
   "cell_type": "markdown",
   "metadata": {},
   "source": [
    "Precomputed matrices:\n",
    "- $D_{G^{2n}}^V := [d^{2n}_{g_{ij}}]$ \n",
    "    - Distance matrix.\n",
    "    - Block structure. \n",
    "    - All the entries are non-negative.\n",
    "    - <span style=\"color:red\"> It is a square matrix. </span>\n",
    "- $ I_F^V := [I_{f_{ij}}]$\n",
    "    - Inclusion matrix from $F$ to $F^n$.\n",
    "    - Block structure.\n",
    "    - All the entries are binary.\n",
    "\n",
    "- $I_{G^n}^V := [I^n_{g_{ij}}]$\n",
    "    - Inclusion matrix from $G^n$ to $G^{2n}$.\n",
    "    - Block structure.\n",
    "    - All the entries are binary.\n",
    "    "
   ]
  },
  {
   "cell_type": "markdown",
   "metadata": {},
   "source": [
    "Matrix variables:\n",
    "- $\\varPhi_V^n := [\\varphi^n_{v_{ij}}]$\n",
    "    - assignment from $F^n$ to $G^{2n}$ on vertices.\n",
    "    - Block structure. \n",
    "    - All the entries are binary.\n",
    "    - Columns should add up to 1.\n",
    "- $\\varPhi_V := [\\varphi_{v_{ij}}]$\n",
    "    - assignment from $F$ to $G^n$ on vertices.\n",
    "    - Block structure. \n",
    "    - All the entries are binary.\n",
    "    - Columns should add up to 1.\n"
   ]
  },
  {
   "cell_type": "markdown",
   "metadata": {},
   "source": [
    "We need write down each element as the product and subtraction of matrices.\n",
    "\n",
    "Let $L := D_{G^{2n}}^V * (\\varPhi^n_V * I^V_F - I^V_{G^n} * \\varPhi_V )$.\n",
    "\n",
    "Then, we have:\n",
    "\n",
    "$ \\sum_{h=1}^m d^{2n}_{g_{ih}} * (\\sum_{j=1}^n \\varphi^n_{v_{hj}} * I_{f_{jk}} - \\sum_{l=1}^o I^n_{g_{il}} * \\varphi_{v_{lk}})$ for all $i = 1, 2, \\ldots, m$ and all  $k = 1, 2, \\dots, p$."
   ]
  },
  {
   "cell_type": "markdown",
   "metadata": {},
   "source": [
    "Let `m` be the maximum over all absolute valued entries in $L$.\n",
    "\n",
    "- Objective function: minimize $m$."
   ]
  },
  {
   "cell_type": "markdown",
   "metadata": {},
   "source": [
    "- Subject to:\n",
    "    1. $ m \\geq \\sum_{h=1}^m d^{2n}_{g_{ih}} * (\\sum_{j=1}^n \\varphi^n_{v_{hj}} * I_{f_{jk}} - \\sum_{l=1}^o I^n_{g_{il}} * \\varphi_{v_{lk}}) = 0$ for all $i = 1, 2, \\ldots, m$ and all  $k = 1, 2, \\dots, p$.<br><br>\n",
    "    2. $ -m \\leq \\sum_{h=1}^m d^{2n}_{g_{ih}} * (\\sum_{j=1}^n \\varphi^n_{v_{hj}} * I_{f_{jk}} - \\sum_{l=1}^o I^n_{g_{il}} * \\varphi_{v_{lk}}) = 0$ for all $i = 1, 2, \\ldots, m$ and all  $k = 1, 2, \\dots, p$.<br><br>\n",
    "    3. $\\sum_{h=1}^m \\varphi_{v_{hj}} = 1$ for all $j = 1, 2, \\ldots, m$.<br><br>\n",
    "    4. $\\sum_{l=1}^o \\varphi^n_{v_{lk}} = 1$ for all $k = 1, 2, \\ldots, p$.<br><br>\n",
    "    5. $\\varphi_{v_{hj}} \\geq 0$  for all $h = 1, 2, \\ldots, m$ and all $j = 1, 2, \\ldots, n$.<br><br>\n",
    "    6. $\\varphi_{v^n_{lk}} \\geq 0$  for all $l = 1, 2, \\ldots, o$ and all $k = 1, 2, \\ldots, p$.<br><br>"
   ]
  },
  {
   "cell_type": "markdown",
   "metadata": {},
   "source": [
    "## Diagram 7"
   ]
  },
  {
   "cell_type": "markdown",
   "metadata": {},
   "source": [
    "![image](/Users/ishikaghosh/Library/CloudStorage/OneDrive-MichiganStateUniversity/Documents/Research/Projects/Interleaving_to_ML/ceREEBerus/doc_source/images/diagram_pictures/Diagram_7.png)"
   ]
  },
  {
   "cell_type": "markdown",
   "metadata": {},
   "source": [
    "Precomputed matrices:\n",
    "- $D_{F^{2n}}^V := [d^{2n}_{f_{ij}}]$ \n",
    "    - Distance matrix.\n",
    "    - Block structure. \n",
    "    - All the entries are non-negative.\n",
    "    - <span style=\"color:red\"> It is a square matrix. </span>\n",
    "\n",
    "- $ I_{F^n}^V := [I^n_{f_{ij}}]$\n",
    "    - Inclusion matrix from $G$ to $G^n$.\n",
    "    - Block structure.\n",
    "    - All the entries are binary.\n",
    "\n",
    "- $ I_{F}^V := [I_{f_{ij}}]$\n",
    "    - Inclusion matrix from $G$ to $G^n$.\n",
    "    - Block structure.\n",
    "    - All the entries are binary.\n",
    "\n",
    "We also precompute $I_{f^nf} := I_{F^n}^V * I_{F}^V$."
   ]
  },
  {
   "cell_type": "markdown",
   "metadata": {},
   "source": [
    "Matrix variables:\n",
    "\n",
    "- $\\Psi_V^n := [\\psi^n_{v_{ij}}]$\n",
    "    - assignment from $G^n$ to $F^{2n}$ on vertices.\n",
    "    - Block structure. \n",
    "    - All the entries are binary.\n",
    "    - Columns should add up to 1.\n",
    "\n",
    "- $\\varPhi_V := [\\varphi_{v_{ij}}]$\n",
    "    - assignment from $G$ to $F^n$ on vertices.\n",
    "    - Block structure. \n",
    "    - All the entries are binary.\n",
    "    - Columns should add up to 1."
   ]
  },
  {
   "cell_type": "markdown",
   "metadata": {},
   "source": [
    "* Index summary:\n",
    "    - $i: 1, 2, \\ldots, m$\n",
    "    - $j: 1, 2, \\ldots, n$\n",
    "    - $k: 1, 2, \\ldots, p$\n"
   ]
  },
  {
   "cell_type": "markdown",
   "metadata": {},
   "source": [
    "We need to linearlize the product of variable matrices first. \n",
    "\n",
    "- Step 1: $\\Psi_V^n\\varPhi_V$<br>\n",
    "\n",
    "    Let, $C = \\Psi_V^n\\varPhi_V$\\\n",
    "    Then, $c_{ik} = \\sum_{j=1}^n \\psi^n_{v_{ij}}\\varphi_{v_{jk}}$\\\n",
    "    We introduce a new *binary* variable `z` which will represent the product of $\\psi^n_{v_{ij}}$ and $\\varphi_{v_{jk}}$.<br>\n",
    "\n",
    "    We can write the product as following:\n",
    "    $c_{ik} = \\sum_{j=1}^n z_{ijk}$\n",
    "\n",
    "    While z has the following constraints:\n",
    "    1. $z_{ijk} \\leq \\psi^n_{v_{ij}}$\n",
    "    2. $z_{ijk} \\leq \\varphi_{v_{jk}}$\n",
    "    3. $z_{ijk} \\geq \\psi^n_{v_{ij}} + \\varphi_{v_{jk}} - 1$\n",
    "\n",
    "\n",
    "    "
   ]
  },
  {
   "cell_type": "markdown",
   "metadata": {},
   "source": [
    "Let $L := D_{F^{2n}}^V * (I_{F^n}^V * I_{F}^V - \\Psi_V^n\\varPhi_V)$.\n",
    "\n",
    "Then, we have:\n",
    "\n",
    "$ \\sum_{i=1}^m d^{2n}_{f_{ji}} * (I_{{f^nf}_{ik}} - c_{ik})$ for all  $k = 1, 2, \\dots, p$."
   ]
  },
  {
   "cell_type": "markdown",
   "metadata": {},
   "source": [
    "Let `m` be the maximum over all absolute valued entries in $L$.\n",
    "\n",
    "- Objective function: minimize $m$.\n"
   ]
  },
  {
   "cell_type": "markdown",
   "metadata": {},
   "source": [
    "- Subject to:\n",
    "    1. $ m \\geq \\sum_{i=1}^m d^{2n}_{f_{ij}} * (I_{{f^nf}_{ik}} - c_{ik}) = 0$ for all  $k = 1, 2, \\dots, p$.<br><br>\n",
    "    2. $ -m \\leq \\sum_{i=1}^m d^{2n}_{f_{ij}} * (I_{{f^nf}_{ik}} - c_{ik}) = 0$ for all  $k = 1, 2, \\dots, p$.<br><br>\n",
    "    3. $ c_{ik} = \\sum_{j=1}^n z_{ijk}$ for all  $i= 1, 2, \\dots, m$ and $k = 1, 2, \\dots, p$.<br><br>\n",
    "    4. $ z_{ijk} \\leq \\psi^n_{v_{ij}}$ for all  $i= 1, 2, \\dots, m$, $j = 1, 2, \\dots, n$ and $k = 1, 2, \\dots, p$.<br><br>\n",
    "    5. $ z_{ijk} \\leq \\varphi_{v_{jk}}$ for all  $i= 1, 2, \\dots, m$, $j = 1, 2, \\dots, n$ and $k = 1, 2, \\dots, p$.<br><br>\n",
    "    6. $ z_{ijk} \\geq \\psi^n_{v_{ij}} + \\varphi_{v_{jk}} - 1$ for all  $i= 1, 2, \\dots, m$, $j = 1, 2, \\dots, n$ and $k = 1, 2, \\dots, p$.<br><br>\n",
    "    7. $\\sum_{j=1}^n \\psi^n_{v_{ij}} = 1$ for all $i = 1, 2, \\ldots, m$.<br><br>\n",
    "    8. $\\sum_{k=1}^p \\varphi_{v_{jk}} = 1$ for all $j = 1, 2, \\ldots, n$.<br><br>\n",
    "    9. $\\psi^n_{v_{ij}} \\geq 0$  for all $i = 1, 2, \\ldots, m$ and all $j = 1, 2, \\ldots, n$.<br><br>\n",
    "    10. $\\varphi_{v_{jk}} \\geq 0$  for all $j = 1, 2, \\ldots, n$ and all $k = 1, 2, \\ldots, p$.<br><br>"
   ]
  },
  {
   "cell_type": "markdown",
   "metadata": {},
   "source": [
    "1 and 2 are the absolute value constraints. 3 reparametrizes the product of two matrices. 4, 5, and 6 are the constraints for the reparametrized binary variable. 7 and 8 makes sure that the columns add up to 1. 9 and 10 makes sure that the entries are non-negative."
   ]
  },
  {
   "cell_type": "markdown",
   "metadata": {},
   "source": [
    "# <span style=\"color:red\"> Q. How to combine all the constraints into one ILP? </span>"
   ]
  },
  {
   "cell_type": "markdown",
   "metadata": {},
   "source": []
  }
 ],
 "metadata": {
  "kernelspec": {
   "display_name": "interleavingenv",
   "language": "python",
   "name": "python3"
  },
  "language_info": {
   "codemirror_mode": {
    "name": "ipython",
    "version": 3
   },
   "file_extension": ".py",
   "mimetype": "text/x-python",
   "name": "python",
   "nbconvert_exporter": "python",
   "pygments_lexer": "ipython3",
   "version": "3.13.0"
  }
 },
 "nbformat": 4,
 "nbformat_minor": 2
}
