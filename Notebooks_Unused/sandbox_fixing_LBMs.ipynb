{
 "cells": [
  {
   "cell_type": "code",
   "execution_count": 1,
   "metadata": {},
   "outputs": [],
   "source": [
    "\n",
    "import networkx as nx\n",
    "import numpy as np\n",
    "import matplotlib.pyplot as plt\n",
    "import pandas as pd \n",
    "from scipy.linalg import block_diag\n",
    "\n",
    "from cereeberus import EmbeddedGraph, ReebGraph\n",
    "import cereeberus.data.ex_mappergraphs as ex_mg\n",
    "import cereeberus.data.ex_reebgraphs as ex_rg\n",
    "# from cereeberus.data.ex_mergetrees import randomMergeTree\n",
    "\n",
    "from cereeberus.distance.interleave import Interleave\n",
    "from cereeberus.distance.labeled_blocks import LabeledBlockMatrix as LBM \n",
    "from cereeberus.distance.labeled_blocks import LabeledMatrix as LM\n",
    "from cereeberus.compute.unionfind import UnionFind"
   ]
  },
  {
   "cell_type": "code",
   "execution_count": 2,
   "metadata": {},
   "outputs": [],
   "source": [
    "Mat1 = LM([[0, 1, 2], [-3, -4, -5]], ['u', 'v'], ['a', 'b', 'c'])\n",
    "\n",
    "# 3 x 3\n",
    "Mat2 = LM([[0, 1], [1, 0], [0,0]], ['a', 'b', 'c'], ['x', 'y', 'z'])\n",
    "\n",
    "# 2 x 2\n",
    "Mat4 = LM([[0, 1], [1, 0]], ['a', 'b'], ['x', 'y'])\n",
    "\n",
    "# 3 x 3\n",
    "Mat5 =LM([[0, 1], [1, 0], [3,-2]], ['a', 'c', 'b'], ['x', 'y', 'z']) \n",
    "\n",
    "# 2 x 2 \n",
    "Mat6 = LM([[0, 1], [1, 0]], ['u', 'v'], ['x', 'y'])\n",
    "Mat7 = LM([[0, 1], [1, 0]], ['a','b'], ['u', 'v'])"
   ]
  },
  {
   "cell_type": "code",
   "execution_count": 3,
   "metadata": {},
   "outputs": [],
   "source": [
    "cols_dict = {1: ['a','b'], 2: ['c','d','e']}\n",
    "rows_dict = {0: ['u'], 1: ['v','w'], 2: ['x']}\n",
    "map_dict = {'a': 'v', 'b':'v', 'c': 'x', 'd':'x', 'e':'x'}\n",
    "lbm = LBM(map_dict, rows_dict, cols_dict)\n",
    "\n",
    "# A second example with rows and columns switched\n",
    "cols_dict = {0: ['u'], 1: ['v','w'], 2: ['x']}\n",
    "rows_dict = {0: ['x','y'], 1: ['z','a','b'], 2: ['c'], 3: ['d','e']}\n",
    "map_dict = {'u': 'y', 'v':'z', 'w': 'b', 'x':'c'}\n",
    "lbm2 = LBM(map_dict, rows_dict, cols_dict)"
   ]
  },
  {
   "cell_type": "code",
   "execution_count": 4,
   "metadata": {},
   "outputs": [
    {
     "data": {
      "text/plain": [
       "LabeledBlockMatrix(matrices={0: LabeledMatrix(\n",
       "array=\n",
       "[[0.]\n",
       " [1.]], \n",
       "rows=['x', 'y'], \n",
       "cols=['u']), 1: LabeledMatrix(\n",
       "array=\n",
       "[[1. 0.]\n",
       " [0. 0.]\n",
       " [0. 1.]], \n",
       "rows=['z', 'a', 'b'], \n",
       "cols=['v', 'w']), 2: LabeledMatrix(\n",
       "array=\n",
       "[[1.]], \n",
       "rows=['c'], \n",
       "cols=['x']), 3: LabeledMatrix(\n",
       "array=\n",
       "[], \n",
       "rows=['d', 'e'], \n",
       "cols=[])})"
      ]
     },
     "execution_count": 4,
     "metadata": {},
     "output_type": "execute_result"
    }
   ],
   "source": [
    "lbm2"
   ]
  },
  {
   "cell_type": "code",
   "execution_count": 5,
   "metadata": {},
   "outputs": [
    {
     "data": {
      "text/plain": [
       "1.0"
      ]
     },
     "execution_count": 5,
     "metadata": {},
     "output_type": "execute_result"
    }
   ],
   "source": [
    "lbm2.max()"
   ]
  },
  {
   "cell_type": "code",
   "execution_count": 6,
   "metadata": {},
   "outputs": [
    {
     "data": {
      "text/plain": [
       "1.0"
      ]
     },
     "execution_count": 6,
     "metadata": {},
     "output_type": "execute_result"
    }
   ],
   "source": [
    "lbm.max()"
   ]
  },
  {
   "cell_type": "code",
   "execution_count": 7,
   "metadata": {},
   "outputs": [
    {
     "name": "stdout",
     "output_type": "stream",
     "text": [
      "<class 'numpy.ndarray'>\n"
     ]
    },
    {
     "data": {
      "image/png": "[encoded data removed]",
      "text/plain": [
       "<Figure size 640x480 with 1 Axes>"
      ]
     },
     "metadata": {},
     "output_type": "display_data"
    }
   ],
   "source": [
    "lbm.draw(filltype='nan')"
   ]
  },
  {
   "cell_type": "code",
   "execution_count": 11,
   "metadata": {},
   "outputs": [
    {
     "data": {
      "text/plain": [
       "1.0"
      ]
     },
     "execution_count": 11,
     "metadata": {},
     "output_type": "execute_result"
    }
   ],
   "source": [
    "lbm2.max()"
   ]
  },
  {
   "cell_type": "code",
   "execution_count": 9,
   "metadata": {},
   "outputs": [
    {
     "data": {
      "image/png": "[encoded data removed]",
      "text/plain": [
       "<Figure size 640x480 with 1 Axes>"
      ]
     },
     "metadata": {},
     "output_type": "display_data"
    }
   ],
   "source": [
    "lbm.draw()"
   ]
  },
  {
   "cell_type": "code",
   "execution_count": null,
   "metadata": {},
   "outputs": [],
   "source": []
  }
 ],
 "metadata": {
  "kernelspec": {
   "display_name": "base",
   "language": "python",
   "name": "python3"
  },
  "language_info": {
   "codemirror_mode": {
    "name": "ipython",
    "version": 3
   },
   "file_extension": ".py",
   "mimetype": "text/x-python",
   "name": "python",
   "nbconvert_exporter": "python",
   "pygments_lexer": "ipython3",
   "version": "3.12.7"
  }
 },
 "nbformat": 4,
 "nbformat_minor": 2
}
